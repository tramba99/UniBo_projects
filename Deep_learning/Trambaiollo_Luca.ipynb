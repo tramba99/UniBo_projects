{
  "cells": [
    {
      "cell_type": "markdown",
      "metadata": {
        "id": "v85Qq_p0my49"
      },
      "source": [
        "# Next frame prediction\n",
        "\n",
        "The project consists of predicting the next frame in a short movie sequence.\n",
        "\n",
        "For this project, we shall use the Moving MNIST dataset, composed of 10,000 video sequences, each consisting of 20 frames. In each video sequence, two digits move independently around the frame, which has a spatial resolution of 64×64 pixels. The digits frequently intersect with each other and bounce off the edges of the frame.\n",
        "\n",
        "While each sequence has a lenght of 20, your are supposed to use **only 3 consecutive frames as input**, and **predict the next one**.\n",
        "\n",
        "The metric used to evalaute the quality of the predicted frame is Mean Squared Error."
      ]
    },
    {
      "cell_type": "code",
      "execution_count": 2,
      "metadata": {
        "id": "Wlg8ZSz3FHFh"
      },
      "outputs": [],
      "source": [
        "import tensorflow as tf\n",
        "import tensorflow_datasets as tfds\n",
        "from tensorflow import keras\n",
        "from keras import layers\n",
        "from tensorflow import keras as ks\n",
        "\n",
        "import math\n",
        "import matplotlib.pyplot as plt\n",
        "import numpy as np"
      ]
    },
    {
      "cell_type": "code",
      "execution_count": 3,
      "metadata": {
        "colab": {
          "base_uri": "https://localhost:8080/",
          "height": 188,
          "referenced_widgets": [
            "c6a711e26263421db91b356dddb7ccfd",
            "eeb369fe1e5540dc85759fba10aa5faf",
            "2603780ce7c64170942a16e0d68afdce",
            "2d54f51fa7174017b9e2b5b8ae7b231a",
            "447c25f9b8e5487297d6a4211089f516",
            "59b64db6ab1140e797339466d9fb894b",
            "d33c61147ba04894aecfbeab25bc9ba5",
            "dbd282452d6b407aa4be3ae279c46ee3",
            "e400ba6ca4b242029293f0dc1f66661b",
            "f343fa4e208b40aabc663276ab57604a",
            "71762e9eeb6a403683faf39ba5140741",
            "b212fa0a650649f5a3acde43c3715489",
            "30fd07e07f5a45acbb34973cd0a30416",
            "865da875b12a42d68e4c67295767fe68",
            "36e59b085b3e4f5884ea3cd4f98545f3",
            "892aada5cffb4ed789c4bbee332e0494",
            "89595f4ff38c4f7dade6d1a395267fce",
            "ca19de96cc0d4f6da59e362e2da367f4",
            "c039dac535a44a2c91db3385f06893e9",
            "165265a768c84428b0a64cb53b27227b",
            "95ce8cf891c74d7f930c807a756c910d",
            "1b99888ef4774ababfb8f8c376cd7124",
            "f98521de4bdd4ede83aa6cec293bac6e",
            "5b9d12145b004c118581cb406c9f1317",
            "bbe462ddedde4aaea5c50dc62f7a72ce",
            "bd4e289bcfa042f6996f2c30c32555c7",
            "781c478d1cc24429b5a24b7db193814c",
            "cce5b44e8fcf42a2afa19023573954b6",
            "70b02d4104e946f28dc9cee974429221",
            "b3964ba5cade472eb21c76f21c4665c6",
            "b91aba5745284dfabab748163c00ed47",
            "10fefc727d1e4e358f0ec72440b9bbab",
            "4ed007c1192d415eacf991520d19a371",
            "46c0803737954f1b9588481e91fd1129",
            "b26650d6e8c74ccf93d94691f8f44eaf",
            "6ee707abeb3946d4a319088c259234ec",
            "18a8772afa2644aaad0eba15ba178ddf",
            "7cc8390b46834b97b4369e5d2c03bc33",
            "174c9181e90849eea8edd8df77b513b7",
            "b35c255522474757a1af9e59cfccedc3",
            "43d9f6fb5ea6464e857570af954bf669",
            "432e6cfc314c4e2eaf50d2617f01f03f",
            "17a8738ade544035923918af499747b8",
            "7f4add4d32d245c0a017ee538c7a1edd",
            "9bcc2944aebf4b6e8aa99ce5061343df",
            "5a79b0b1455b4f77bf7515d4f0cff3c9",
            "46bca573069e44e3bcec46f11d5ecf59",
            "ca07988c7fde4a2084ef4c5bd6fe2af5",
            "8c89b14fa22a4beeaf4b4afe6d560f14",
            "22dd7a3b30eb409aa1a4eb54e73da6a6",
            "4490b11c2b174f13acd4a91cd74b51a9",
            "8453bff3b567443c9c2355c45d0ba700",
            "aecb20fac60c41b6b0f5b3be79711f06",
            "4be69e9ab8a046ceac56a257ebdbebf2",
            "e056db8bed9c4bceb15db69eac73fe02"
          ]
        },
        "id": "0nyzhFRDVuFw",
        "outputId": "98d3380d-6421-4a63-f75b-77b6c729baeb"
      },
      "outputs": [
        {
          "name": "stderr",
          "output_type": "stream",
          "text": [
            "WARNING:absl:You use TensorFlow DType <dtype: 'uint8'> in tfds.features This will soon be deprecated in favor of NumPy DTypes. In the meantime it was converted to uint8.\n"
          ]
        },
        {
          "name": "stdout",
          "output_type": "stream",
          "text": [
            "Downloading and preparing dataset Unknown size (download: Unknown size, generated: 91.70 MiB, total: 91.70 MiB) to /root/tensorflow_datasets/moving_mnist/1.0.0...\n"
          ]
        },
        {
          "data": {
            "application/vnd.jupyter.widget-view+json": {
              "model_id": "c6a711e26263421db91b356dddb7ccfd",
              "version_major": 2,
              "version_minor": 0
            },
            "text/plain": [
              "Dl Completed...: 0 url [00:00, ? url/s]"
            ]
          },
          "metadata": {},
          "output_type": "display_data"
        },
        {
          "data": {
            "application/vnd.jupyter.widget-view+json": {
              "model_id": "b212fa0a650649f5a3acde43c3715489",
              "version_major": 2,
              "version_minor": 0
            },
            "text/plain": [
              "Dl Size...: 0 MiB [00:00, ? MiB/s]"
            ]
          },
          "metadata": {},
          "output_type": "display_data"
        },
        {
          "data": {
            "application/vnd.jupyter.widget-view+json": {
              "model_id": "f98521de4bdd4ede83aa6cec293bac6e",
              "version_major": 2,
              "version_minor": 0
            },
            "text/plain": [
              "Generating splits...:   0%|          | 0/1 [00:00<?, ? splits/s]"
            ]
          },
          "metadata": {},
          "output_type": "display_data"
        },
        {
          "data": {
            "application/vnd.jupyter.widget-view+json": {
              "model_id": "46c0803737954f1b9588481e91fd1129",
              "version_major": 2,
              "version_minor": 0
            },
            "text/plain": [
              "Generating test examples...:   0%|          | 0/10000 [00:00<?, ? examples/s]"
            ]
          },
          "metadata": {},
          "output_type": "display_data"
        },
        {
          "data": {
            "application/vnd.jupyter.widget-view+json": {
              "model_id": "9bcc2944aebf4b6e8aa99ce5061343df",
              "version_major": 2,
              "version_minor": 0
            },
            "text/plain": [
              "Shuffling /root/tensorflow_datasets/moving_mnist/1.0.0.incompleteGOGOKB/moving_mnist-test.tfrecord*...:   0%| …"
            ]
          },
          "metadata": {},
          "output_type": "display_data"
        },
        {
          "name": "stderr",
          "output_type": "stream",
          "text": [
            "WARNING:absl:`FeatureConnector.dtype` is deprecated. Please change your code to use NumPy with the field `FeatureConnector.np_dtype` or use TensorFlow with the field `FeatureConnector.tf_dtype`.\n",
            "WARNING:absl:`FeatureConnector.dtype` is deprecated. Please change your code to use NumPy with the field `FeatureConnector.np_dtype` or use TensorFlow with the field `FeatureConnector.tf_dtype`.\n"
          ]
        },
        {
          "name": "stdout",
          "output_type": "stream",
          "text": [
            "Dataset moving_mnist downloaded and prepared to /root/tensorflow_datasets/moving_mnist/1.0.0. Subsequent calls will reuse this data.\n"
          ]
        }
      ],
      "source": [
        "ds = tfds.as_numpy(tfds.load(\n",
        "    'moving_mnist',\n",
        "    split='test',\n",
        "    batch_size=-1\n",
        "))\n",
        "sequences = ds['image_sequence']"
      ]
    },
    {
      "cell_type": "markdown",
      "metadata": {
        "id": "JXFR88VToaSz"
      },
      "source": [
        "The dataset is composed of 10000 sequences of 20 frames each. Each (grayscale) frame has dimnesion 64x64"
      ]
    },
    {
      "cell_type": "code",
      "execution_count": 4,
      "metadata": {
        "colab": {
          "base_uri": "https://localhost:8080/"
        },
        "id": "ZkS8Z9bXVxVG",
        "outputId": "aaac9e51-7dc6-4353-d860-3ed840bec71f"
      },
      "outputs": [
        {
          "name": "stdout",
          "output_type": "stream",
          "text": [
            "(10000, 20, 64, 64, 1)\n",
            "0.0 1.0\n"
          ]
        }
      ],
      "source": [
        "sequences = sequences/255.\n",
        "print(sequences.shape)\n",
        "print(np.min(sequences),np.max(sequences))"
      ]
    },
    {
      "cell_type": "markdown",
      "metadata": {
        "id": "xEJxqJ0SotTn"
      },
      "source": [
        "Let us split the dataset in training, validation and testing.\n",
        "You are supposed to evaluate the performance of your model using MSE over the full test set."
      ]
    },
    {
      "cell_type": "code",
      "execution_count": 5,
      "metadata": {
        "id": "CZSAjVd9bYhl"
      },
      "outputs": [],
      "source": [
        "trainset = sequences[:8000]\n",
        "valset = sequences[8000:9000]\n",
        "testset = sequences[9000:10000]"
      ]
    },
    {
      "cell_type": "markdown",
      "metadata": {
        "id": "Ro84EIPjpCDW"
      },
      "source": [
        "Here is a simple generator, creating the input sequences of 3 frames, and the expected output, namely the next frame."
      ]
    },
    {
      "cell_type": "code",
      "execution_count": 6,
      "metadata": {
        "id": "ZzzBAxNwKOGt"
      },
      "outputs": [],
      "source": [
        "def image_generator(dataset,batchsize=16,seqlen=4):\n",
        "    while True:\n",
        "      batch_x = np.zeros((batchsize,seqlen-1,64,64,1))\n",
        "      batch_y = np.zeros((batchsize,1,64,64,1))\n",
        "      ran = np.random.randint(dataset.shape[0],size=batchsize)\n",
        "      minibatch = dataset[ran]\n",
        "      #these sequences have length 20; we reduce them to seqlen\n",
        "      for i in range(batchsize):\n",
        "          random_start = np.random.randint(0,20-seqlen)\n",
        "          random_end = random_start+seqlen-1\n",
        "          batch_x[i] = minibatch[i,random_start:random_end,:,:]\n",
        "          batch_y[i] = minibatch[i,random_end:random_end+1,:,:]\n",
        "          #print(batch_x.shape,batch_y.shape)\n",
        "          #print(batch_x.min(),batch_x.max())\n",
        "          #print(batch_x.min(),batch_x.max())\n",
        "      yield(batch_x,batch_y)\n"
      ]
    },
    {
      "cell_type": "code",
      "execution_count": 7,
      "metadata": {
        "id": "1i9wGAY0fl1C"
      },
      "outputs": [],
      "source": [
        "prova_gen = image_generator(testset,batchsize=1,seqlen=4)"
      ]
    },
    {
      "cell_type": "code",
      "execution_count": 8,
      "metadata": {
        "id": "Y7n5_ZMvf1Xe"
      },
      "outputs": [],
      "source": [
        "sample_x, sample_y = next(prova_gen)"
      ]
    },
    {
      "cell_type": "code",
      "execution_count": 9,
      "metadata": {
        "colab": {
          "base_uri": "https://localhost:8080/"
        },
        "id": "LAtcBioVkd89",
        "outputId": "5664e383-cfd3-4d23-bde7-9fad8c942fac"
      },
      "outputs": [
        {
          "name": "stdout",
          "output_type": "stream",
          "text": [
            "(1, 3, 64, 64, 1)\n",
            "(1, 1, 64, 64, 1)\n"
          ]
        }
      ],
      "source": [
        "print(sample_x.shape)\n",
        "print(sample_y.shape)"
      ]
    },
    {
      "cell_type": "code",
      "execution_count": 10,
      "metadata": {
        "id": "V-84FZcphrsf"
      },
      "outputs": [],
      "source": [
        "def show_list(images): #takes in input a list of images and plot them\n",
        "    size = len(images)\n",
        "    plt.figure(figsize=(10, 10 * size))\n",
        "    for i in range(size):\n",
        "        plt.subplot(1, size, i + 1)\n",
        "        plt.imshow(images[i],cmap='gray',)\n",
        "    plt.axis(\"off\")\n",
        "    plt.tight_layout()\n",
        "    plt.show()\n",
        "    plt.close()"
      ]
    },
    {
      "cell_type": "code",
      "execution_count": 11,
      "metadata": {
        "colab": {
          "base_uri": "https://localhost:8080/",
          "height": 268
        },
        "id": "I3MgP84rjLdO",
        "outputId": "b6720edd-b2a0-43ed-d30f-475e5d2eafbe"
      },
      "outputs": [
        {
          "data": {
            "image/png": "[encoded data removed]",
            "text/plain": [
              "<Figure size 1000x4000 with 4 Axes>"
            ]
          },
          "metadata": {},
          "output_type": "display_data"
        }
      ],
      "source": [
        "all = [sample_x[0,i,:,:,:] for i in range(3)]+[sample_y[0,0,:,:,:]]\n",
        "show_list(all)"
      ]
    },
    {
      "cell_type": "code",
      "execution_count": 12,
      "metadata": {
        "id": "ZedwxykwK_8D"
      },
      "outputs": [],
      "source": [
        "train_gen = image_generator(trainset)\n",
        "val_gen = image_generator(valset)\n",
        "test_gen = image_generator(testset)"
      ]
    },
    {
      "cell_type": "code",
      "execution_count": 13,
      "metadata": {
        "id": "PXIoWhFvL6uK"
      },
      "outputs": [],
      "source": [
        "sample_x, sample_y = next(train_gen)"
      ]
    },
    {
      "cell_type": "markdown",
      "metadata": {
        "id": "kvKQhGPXo94w"
      },
      "source": [
        "I've used the `display_MSE` function to show the trend of Mean Squared Error during training after fitting the model. The graph will show both the training set trend and the validation one.\n"
      ]
    },
    {
      "cell_type": "code",
      "execution_count": 14,
      "metadata": {
        "id": "IuPeY4x_cNvS"
      },
      "outputs": [],
      "source": [
        "def display_MSE(history):\n",
        "\n",
        "    mse_training = history.history['loss']\n",
        "    mse_val = history.history['val_loss']\n",
        "\n",
        "    # Visualize the behavior of the MSE\n",
        "    plt.plot(mse_training)\n",
        "    plt.plot(mse_val)\n",
        "    plt.grid()\n",
        "    plt.title('MSE during training')\n",
        "    plt.xlabel('Epoch')\n",
        "    plt.legend(['Training', 'Validation'])\n",
        "    plt.show()"
      ]
    },
    {
      "cell_type": "markdown",
      "metadata": {
        "id": "I8eO8HGyFAdf"
      },
      "source": [
        "##Model\n"
      ]
    },
    {
      "cell_type": "markdown",
      "metadata": {
        "id": "A7iikipNj34y"
      },
      "source": [
        "Reasoning about the task given, some ideas initially emerged based on the topics covered in class and during lab sessions correlated with my own experience.\n",
        "At first glance what I found interesting to direct my attention were mainly three approaches:\n",
        "- Transformers\n",
        "- U-net\n",
        "- LSTM and GRU (RNN)<br>\n",
        "\n",
        "At first I began to implement transformers, considering some relevant papers in the field such as: [Anticipative Video Transformer](https://arxiv.org/abs/2106.02036) and [Latent Video Transformer](https://arxiv.org/abs/2006.10704) which, however works better with large datasets and they are not the most indicated for this specific task. <br>\n",
        "\n",
        "Secondly I directed my attention to the implementation of some variations of U-net, but they don’t reach such a good results. <br>\n",
        "\n",
        "I focused my efforts on utilizing Recurrent Neural Networks (RNNs) for frame prediction, as they are better suited for this task compared to transformers, especially when working with smaller datasets and assuming no pre-training.\n",
        "\n",
        "To enhance the performance of the RNNs, I experimented with combining layers such as GRUs, LSTMs, Pooling, Normalization, and Convolution. During this process, I came across a model in the Keras documentation (https://keras.io/examples/vision/conv_lstm/) that caught my attention. It leverages Convolutional LSTMs, which combine time series processing and computer vision by introducing a convolutional recurrent cell within an LSTM layer.\n",
        "\n",
        "One challenge I encountered was dealing with the input and output sizes. The ConvLSTM2D layer operates with shape 5, so I deleted the \"sneeze\" from the code above maintaining the last channel dimension since the images are grayscale.\n",
        "\n",
        "Regarding the output, initially, the model was generating 3 frames because it matched the shape of the input. However, upon analyzing the output frames, I found that the third frame was the most accurate. To address this, I incorporated a lambda function and reshaped the output to only capture the last frame.\n",
        "\n",
        "Before the reshape, I included a Convolutional 3D layer to handle the spatiotemporal outputs effectively. Additionally, I decided to insert LeakyReLU activation functions with an alpha value of 0.60 after each convLSTM2D. However, I kept the final activation function (into the Conv3D) as sigmoid to ensure the return value falls within the range of 0 to 1.\n",
        "\n",
        "To prevent overfitting I have setted the parameter 'recurrent dropout' of the convLSTM2Ds equal to 0.15 which is the fraction of the units to drop for the linear transformation of the recurrent state.\n",
        "\n",
        "I used the mean squared error (MSE) as the chosen error metric to minimize, as requested. Additionally, I employed accuracy as a metric to assess the model's level of precision.\n",
        "\n",
        "Important is the choice of the optimizer, after some trials I have chosen Nadam which is Adam with Nesterov momentum."
      ]
    },
    {
      "cell_type": "code",
      "execution_count": 38,
      "metadata": {
        "colab": {
          "base_uri": "https://localhost:8080/"
        },
        "id": "-Bi_mFcpFE0J",
        "outputId": "d52c8a25-d056-4c4c-febc-b2b48c4e88ae"
      },
      "outputs": [
        {
          "name": "stdout",
          "output_type": "stream",
          "text": [
            "Model: \"model_3\"\n",
            "_________________________________________________________________\n",
            " Layer (type)                Output Shape              Param #   \n",
            "=================================================================\n",
            " input_4 (InputLayer)        [(None, 3, 64, 64, 1)]    0         \n",
            "                                                                 \n",
            " conv_lstm2d_12 (ConvLSTM2D)  (None, 3, 64, 64, 64)    2013696   \n",
            "                                                                 \n",
            " leaky_re_lu_12 (LeakyReLU)  (None, 3, 64, 64, 64)     0         \n",
            "                                                                 \n",
            " batch_normalization_9 (Batc  (None, 3, 64, 64, 64)    256       \n",
            " hNormalization)                                                 \n",
            "                                                                 \n",
            " conv_lstm2d_13 (ConvLSTM2D)  (None, 3, 64, 64, 64)    1605888   \n",
            "                                                                 \n",
            " leaky_re_lu_13 (LeakyReLU)  (None, 3, 64, 64, 64)     0         \n",
            "                                                                 \n",
            " batch_normalization_10 (Bat  (None, 3, 64, 64, 64)    256       \n",
            " chNormalization)                                                \n",
            "                                                                 \n",
            " conv_lstm2d_14 (ConvLSTM2D)  (None, 3, 64, 64, 64)    295168    \n",
            "                                                                 \n",
            " leaky_re_lu_14 (LeakyReLU)  (None, 3, 64, 64, 64)     0         \n",
            "                                                                 \n",
            " batch_normalization_11 (Bat  (None, 3, 64, 64, 64)    256       \n",
            " chNormalization)                                                \n",
            "                                                                 \n",
            " conv_lstm2d_15 (ConvLSTM2D)  (None, 3, 64, 64, 64)    33024     \n",
            "                                                                 \n",
            " leaky_re_lu_15 (LeakyReLU)  (None, 3, 64, 64, 64)     0         \n",
            "                                                                 \n",
            " conv3d_3 (Conv3D)           (None, 3, 64, 64, 1)      577       \n",
            "                                                                 \n",
            " lambda_3 (Lambda)           (None, 64, 64, 1)         0         \n",
            "                                                                 \n",
            " reshape_3 (Reshape)         (None, 1, 64, 64, 1)      0         \n",
            "                                                                 \n",
            "=================================================================\n",
            "Total params: 3,949,121\n",
            "Trainable params: 3,948,737\n",
            "Non-trainable params: 384\n",
            "_________________________________________________________________\n"
          ]
        }
      ],
      "source": [
        "# Construct the input layer.\n",
        "inp = layers.Input(shape=(3, 64, 64,1))\n",
        "\n",
        "# I will construct 4 `ConvLSTM2D` layers with batch normalization, followed by a `Conv3D` layer for the spatiotemporal outputs.\n",
        "x1 = layers.ConvLSTM2D(\n",
        "    filters=64,\n",
        "    kernel_size=(11, 11),\n",
        "    padding=\"same\",\n",
        "    return_sequences=True,\n",
        "    recurrent_dropout=0.15,\n",
        "\n",
        ")(inp)\n",
        "x2 = layers.LeakyReLU(alpha=0.60)(x1)\n",
        "x3 = layers.BatchNormalization()(x2)\n",
        "x4 = layers.ConvLSTM2D(\n",
        "    filters=64,\n",
        "    kernel_size=(7, 7),\n",
        "    padding=\"same\",\n",
        "    return_sequences=True,\n",
        "    recurrent_dropout=0.15,\n",
        "\n",
        ")(x3)\n",
        "x5 = layers.LeakyReLU(alpha=0.60)(x4)\n",
        "x6 = layers.BatchNormalization()(x5)\n",
        "x7 = layers.ConvLSTM2D(\n",
        "    filters=64,\n",
        "    kernel_size=(3, 3),\n",
        "    padding=\"same\",\n",
        "    return_sequences=True,\n",
        "    recurrent_dropout=0.15,\n",
        "\n",
        ")(x6)\n",
        "x8 = layers.LeakyReLU(alpha=0.60)(x7)\n",
        "x9 = layers.BatchNormalization()(x8)\n",
        "x10 = layers.ConvLSTM2D(\n",
        "    filters=64,\n",
        "    kernel_size=(1, 1),\n",
        "    padding=\"same\",\n",
        "    return_sequences=True,\n",
        "    recurrent_dropout=0.15,\n",
        "\n",
        ")(x9)\n",
        "x11 = layers.LeakyReLU(alpha=0.60)(x10)\n",
        "x12 = layers.Conv3D(\n",
        "    filters=1, kernel_size=(1, 3, 3),\n",
        "    activation=\"sigmoid\",\n",
        "    padding=\"same\"\n",
        ")(x11)\n",
        "\n",
        "#Keep the third frame (last one) as output\n",
        "separate_layers = []\n",
        "separate_layer = layers.Lambda(lambda x: x[:,-1,:,:,:])(x12)\n",
        "separate_layer = layers.Reshape((1,64,64,1))(separate_layer)\n",
        "separate_layers.append(separate_layer)\n",
        "\n",
        "# Next, I will build the complete model and compile it.\n",
        "model = keras.models.Model(inp, separate_layers)\n",
        "model.compile(\n",
        "    loss=keras.losses.MeanSquaredError(), metrics=['accuracy'], optimizer=tf.keras.optimizers.Nadam())\n",
        "model.summary()\n"
      ]
    },
    {
      "cell_type": "markdown",
      "metadata": {
        "id": "Z9Z95KLCIKjM"
      },
      "source": [
        "##Model Training"
      ]
    },
    {
      "cell_type": "markdown",
      "metadata": {
        "id": "V5z-mFQzvk5C"
      },
      "source": [
        "For training the model, I opted to run it for 30 epochs due to the ongoing decrease in mean squared error (MSE) throughout the training process. Additionally, I set the batch size to 16.\n",
        "\n",
        "In the `fit` function, I passed the `train_gen` as the first argument, which contains both the training samples and labels. Similarly, for the validation data, I used `val_gen`. The total number of learned samples per epoch can be calculated as follows:\n",
        "\n",
        "$n=$ `steps_per_epoch` × `batchsize`\n",
        "\n",
        "To determine the `steps_per_epoch`, I set it equal to the integer division of the length of the training set by the batch size: `steps_per_epoch = len(trainset)//batchsize` (resulting in ( $n = 500 \\times 16 = 8000 $)). I maintained the `validation_steps` value as `len(valset)//batchsize` to ensure that the computation was not overly time-consuming.\n",
        "\n",
        "To prevent overfitting, I incorporated the `early_stopping` callback, which halts training if there is no improvement in `val_loss` after 5 epochs. This allows for early termination of the training process."
      ]
    },
    {
      "cell_type": "code",
      "execution_count": 39,
      "metadata": {
        "colab": {
          "base_uri": "https://localhost:8080/"
        },
        "id": "fYaHgaJeINXX",
        "outputId": "54f9d096-7ed4-4fda-9449-68a17a863812"
      },
      "outputs": [
        {
          "name": "stdout",
          "output_type": "stream",
          "text": [
            "Epoch 1/30\n",
            "500/500 [==============================] - 442s 855ms/step - loss: 0.0190 - accuracy: 0.9237 - val_loss: 0.0240 - val_accuracy: 0.9293\n",
            "Epoch 2/30\n",
            "500/500 [==============================] - 426s 851ms/step - loss: 0.0135 - accuracy: 0.9266 - val_loss: 0.0128 - val_accuracy: 0.9269\n",
            "Epoch 3/30\n",
            "500/500 [==============================] - 425s 851ms/step - loss: 0.0124 - accuracy: 0.9271 - val_loss: 0.0125 - val_accuracy: 0.9254\n",
            "Epoch 4/30\n",
            "500/500 [==============================] - 425s 850ms/step - loss: 0.0118 - accuracy: 0.9274 - val_loss: 0.0119 - val_accuracy: 0.9272\n",
            "Epoch 5/30\n",
            "500/500 [==============================] - 425s 850ms/step - loss: 0.0114 - accuracy: 0.9277 - val_loss: 0.0114 - val_accuracy: 0.9267\n",
            "Epoch 6/30\n",
            "500/500 [==============================] - 424s 849ms/step - loss: 0.0109 - accuracy: 0.9281 - val_loss: 0.0110 - val_accuracy: 0.9266\n",
            "Epoch 7/30\n",
            "500/500 [==============================] - 424s 847ms/step - loss: 0.0108 - accuracy: 0.9285 - val_loss: 0.0105 - val_accuracy: 0.9270\n",
            "Epoch 8/30\n",
            "500/500 [==============================] - 423s 846ms/step - loss: 0.0105 - accuracy: 0.9284 - val_loss: 0.0104 - val_accuracy: 0.9278\n",
            "Epoch 9/30\n",
            "500/500 [==============================] - 423s 846ms/step - loss: 0.0103 - accuracy: 0.9283 - val_loss: 0.0105 - val_accuracy: 0.9269\n",
            "Epoch 10/30\n",
            "500/500 [==============================] - 423s 846ms/step - loss: 0.0103 - accuracy: 0.9286 - val_loss: 0.0106 - val_accuracy: 0.9277\n",
            "Epoch 11/30\n",
            "500/500 [==============================] - 423s 845ms/step - loss: 0.0102 - accuracy: 0.9281 - val_loss: 0.0103 - val_accuracy: 0.9274\n",
            "Epoch 12/30\n",
            "500/500 [==============================] - 422s 845ms/step - loss: 0.0100 - accuracy: 0.9287 - val_loss: 0.0102 - val_accuracy: 0.9279\n",
            "Epoch 13/30\n",
            "500/500 [==============================] - 422s 844ms/step - loss: 0.0100 - accuracy: 0.9287 - val_loss: 0.0106 - val_accuracy: 0.9272\n",
            "Epoch 14/30\n",
            "500/500 [==============================] - 422s 844ms/step - loss: 0.0098 - accuracy: 0.9288 - val_loss: 0.0099 - val_accuracy: 0.9269\n",
            "Epoch 15/30\n",
            "500/500 [==============================] - 422s 843ms/step - loss: 0.0098 - accuracy: 0.9288 - val_loss: 0.0098 - val_accuracy: 0.9284\n",
            "Epoch 16/30\n",
            "500/500 [==============================] - 421s 843ms/step - loss: 0.0097 - accuracy: 0.9290 - val_loss: 0.0097 - val_accuracy: 0.9278\n",
            "Epoch 17/30\n",
            "500/500 [==============================] - 421s 843ms/step - loss: 0.0095 - accuracy: 0.9287 - val_loss: 0.0099 - val_accuracy: 0.9273\n",
            "Epoch 18/30\n",
            "500/500 [==============================] - 421s 842ms/step - loss: 0.0094 - accuracy: 0.9287 - val_loss: 0.0096 - val_accuracy: 0.9277\n",
            "Epoch 19/30\n",
            "500/500 [==============================] - 421s 843ms/step - loss: 0.0095 - accuracy: 0.9286 - val_loss: 0.0095 - val_accuracy: 0.9270\n",
            "Epoch 20/30\n",
            "500/500 [==============================] - 421s 843ms/step - loss: 0.0094 - accuracy: 0.9288 - val_loss: 0.0092 - val_accuracy: 0.9276\n",
            "Epoch 21/30\n",
            "500/500 [==============================] - 422s 843ms/step - loss: 0.0095 - accuracy: 0.9287 - val_loss: 0.0097 - val_accuracy: 0.9274\n",
            "Epoch 22/30\n",
            "500/500 [==============================] - 421s 842ms/step - loss: 0.0093 - accuracy: 0.9287 - val_loss: 0.0093 - val_accuracy: 0.9281\n",
            "Epoch 23/30\n",
            "500/500 [==============================] - 421s 842ms/step - loss: 0.0093 - accuracy: 0.9288 - val_loss: 0.0092 - val_accuracy: 0.9283\n",
            "Epoch 24/30\n",
            "500/500 [==============================] - 421s 842ms/step - loss: 0.0092 - accuracy: 0.9290 - val_loss: 0.0094 - val_accuracy: 0.9283\n",
            "Epoch 25/30\n",
            "500/500 [==============================] - 421s 842ms/step - loss: 0.0091 - accuracy: 0.9291 - val_loss: 0.0094 - val_accuracy: 0.9276\n",
            "Epoch 26/30\n",
            "500/500 [==============================] - 421s 841ms/step - loss: 0.0089 - accuracy: 0.9291 - val_loss: 0.0092 - val_accuracy: 0.9275\n",
            "Epoch 27/30\n",
            "500/500 [==============================] - 421s 842ms/step - loss: 0.0090 - accuracy: 0.9292 - val_loss: 0.0093 - val_accuracy: 0.9282\n",
            "Epoch 28/30\n",
            "500/500 [==============================] - 421s 842ms/step - loss: 0.0090 - accuracy: 0.9293 - val_loss: 0.0096 - val_accuracy: 0.9277\n",
            "Epoch 29/30\n",
            "500/500 [==============================] - 421s 841ms/step - loss: 0.0090 - accuracy: 0.9291 - val_loss: 0.0090 - val_accuracy: 0.9287\n",
            "Epoch 30/30\n",
            "500/500 [==============================] - 421s 841ms/step - loss: 0.0089 - accuracy: 0.9289 - val_loss: 0.0094 - val_accuracy: 0.9284\n"
          ]
        }
      ],
      "source": [
        "# Define some callbacks to improve training.\n",
        "early_stopping = keras.callbacks.EarlyStopping(monitor=\"val_loss\", patience=5)\n",
        "\n",
        "# Define modifiable training hyperparameters.\n",
        "epochs = 30\n",
        "batch_size = 16\n",
        "\n",
        "# Fit the model to the training data.\n",
        "history = model.fit(\n",
        "    x=train_gen, batch_size= batch_size, steps_per_epoch = len(trainset)//batch_size, validation_data= val_gen, validation_steps= len(valset)//batch_size, epochs = epochs, verbose=1, callbacks= early_stopping)\n"
      ]
    },
    {
      "cell_type": "code",
      "execution_count": 40,
      "metadata": {
        "colab": {
          "base_uri": "https://localhost:8080/",
          "height": 472
        },
        "id": "Kig-jxVnlqLA",
        "outputId": "6e22ca78-0d6b-4667-d1d1-9ce407053bf2"
      },
      "outputs": [
        {
          "data": {
            "image/png": "[encoded data removed]",
            "text/plain": [
              "<Figure size 640x480 with 1 Axes>"
            ]
          },
          "metadata": {},
          "output_type": "display_data"
        }
      ],
      "source": [
        "display_MSE(history)"
      ]
    },
    {
      "cell_type": "markdown",
      "metadata": {
        "id": "FIvxvWVi7N0c"
      },
      "source": [
        "The graph depicted above illustrates the decrease in mean squared error (MSE) for both the training and validation sets during the training process. Initially, the MSE decreases rapidly in the early epochs, and subsequently, the rate of change becomes smaller until it reaches a value of 0.0089 after 30 epochs. Importantly, the graph indicates that the model does not overfit, as the training loss closely aligns with the validation loss.\n",
        "\n",
        "Additionally, the MSE computed on the validation set is considerably low, suggesting that the model is likely to perform well when evaluated on the test set. This anticipation is based on the observed small MSE value during the validation phase."
      ]
    },
    {
      "cell_type": "code",
      "execution_count": 42,
      "metadata": {
        "colab": {
          "base_uri": "https://localhost:8080/",
          "height": 254
        },
        "id": "67kRwP5owg7W",
        "outputId": "d28c04dc-4fb1-4818-a168-0985cdc336fe"
      },
      "outputs": [
        {
          "name": "stdout",
          "output_type": "stream",
          "text": [
            "1/1 [==============================] - 0s 29ms/step\n",
            "(1, 1, 64, 64, 1)\n"
          ]
        },
        {
          "data": {
            "image/png": "[encoded data removed]",
            "text/plain": [
              "<Figure size 1000x5000 with 5 Axes>"
            ]
          },
          "metadata": {},
          "output_type": "display_data"
        }
      ],
      "source": [
        "from sklearn import metrics\n",
        "\n",
        "prova_gen = image_generator(testset, batchsize=1, seqlen=4)\n",
        "\n",
        "sample_x, sample_y = next(prova_gen)\n",
        "new_prediction = model.predict(sample_x)\n",
        "print(new_prediction.shape)\n",
        "\n",
        "all_out = [sample_x[0,i,:,:,:] for i in range(3)]+[sample_y[0,0,:,:,0]] + [new_prediction[0,0,:,:,0]]\n",
        "\n",
        "show_list(all_out)\n",
        "\n"
      ]
    },
    {
      "cell_type": "markdown",
      "metadata": {
        "id": "CPXM8Kr28KL-"
      },
      "source": [
        "Above, we can visually evaluate the performance of the model. In this example, the first three frames serve as input to the model, while the fourth frame is the expected output, and the last is the generated output from the model. The model appears to perform well, as the disparity between the last two frames is minimal. This observation is supported by the mean squared error calculated from these last two frames, which demonstrates a small value."
      ]
    },
    {
      "cell_type": "code",
      "execution_count": 43,
      "metadata": {
        "colab": {
          "base_uri": "https://localhost:8080/"
        },
        "id": "jiSbKlSWXdSu",
        "outputId": "072f2c35-b02b-4924-b026-10450f8b9fe2"
      },
      "outputs": [
        {
          "name": "stdout",
          "output_type": "stream",
          "text": [
            "0.003613870276110392\n"
          ]
        }
      ],
      "source": [
        "print(metrics.mean_squared_error(sample_y[0,0,:,:,0], new_prediction[0,0,:,:,0]))"
      ]
    },
    {
      "cell_type": "markdown",
      "metadata": {
        "id": "JMVXlGCC8tXu"
      },
      "source": [
        "I used the model.evaluate method to calculate the mean squared error for the entire test set, which consists of 1000 samples. The resulting MSE value is 0.00895, which serves as my definitive score."
      ]
    },
    {
      "cell_type": "code",
      "execution_count": 50,
      "metadata": {
        "colab": {
          "base_uri": "https://localhost:8080/"
        },
        "id": "NXIgEb3PB7LQ",
        "outputId": "4531079c-32c7-40d9-8614-c6e0c06d784d"
      },
      "outputs": [
        {
          "name": "stdout",
          "output_type": "stream",
          "text": [
            "62/62 [==============================] - 12s 184ms/step - loss: 0.0090 - accuracy: 0.9299\n"
          ]
        },
        {
          "data": {
            "text/plain": [
              "[0.008955705910921097, 0.9298619627952576]"
            ]
          },
          "execution_count": 50,
          "metadata": {},
          "output_type": "execute_result"
        }
      ],
      "source": [
        "model.evaluate(x=test_gen, steps = len(testset)//batch_size, verbose=1)"
      ]
    },
    {
      "cell_type": "markdown",
      "metadata": {
        "id": "8KWu8fzZ9LaQ"
      },
      "source": [
        "I also conducted evaluations on each element of the test set in another way. I iterated over batches of test data and appended the inputs (x), true outputs (y), and predicted outputs to separate lists. The Mean Squared Error (MSE) is calculated between each true output and predicted output, accumulating the MSE values in mse_tot. Finally, the average MSE, mse_final, is obtained by dividing mse_tot by the length of the test set. As anticipated, the manually calculated mean squared error closely aligns with the automated result mentioned earlier."
      ]
    },
    {
      "cell_type": "code",
      "execution_count": 47,
      "metadata": {
        "colab": {
          "base_uri": "https://localhost:8080/"
        },
        "id": "3QtNOlJRny4T",
        "outputId": "46a4544d-7605-4ff8-cc5b-d1253f507a07"
      },
      "outputs": [
        {
          "name": "stdout",
          "output_type": "stream",
          "text": [
            "1/1 [==============================] - 0s 32ms/step\n",
            "1/1 [==============================] - 0s 31ms/step\n",
            "1/1 [==============================] - 0s 30ms/step\n",
            "1/1 [==============================] - 0s 32ms/step\n",
            "1/1 [==============================] - 0s 31ms/step\n",
            "1/1 [==============================] - 0s 31ms/step\n",
            "1/1 [==============================] - 0s 30ms/step\n",
            "1/1 [==============================] - 0s 29ms/step\n",
            "1/1 [==============================] - 0s 31ms/step\n",
            "1/1 [==============================] - 0s 32ms/step\n",
            "1/1 [==============================] - 0s 31ms/step\n",
            "1/1 [==============================] - 0s 31ms/step\n",
            "1/1 [==============================] - 0s 32ms/step\n",
            "1/1 [==============================] - 0s 31ms/step\n",
            "1/1 [==============================] - 0s 31ms/step\n",
            "1/1 [==============================] - 0s 30ms/step\n",
            "1/1 [==============================] - 0s 31ms/step\n",
            "1/1 [==============================] - 0s 32ms/step\n",
            "1/1 [==============================] - 0s 30ms/step\n",
            "1/1 [==============================] - 0s 33ms/step\n",
            "1/1 [==============================] - 0s 33ms/step\n",
            "1/1 [==============================] - 0s 37ms/step\n",
            "1/1 [==============================] - 0s 33ms/step\n",
            "1/1 [==============================] - 0s 32ms/step\n",
            "1/1 [==============================] - 0s 30ms/step\n",
            "1/1 [==============================] - 0s 34ms/step\n",
            "1/1 [==============================] - 0s 31ms/step\n",
            "1/1 [==============================] - 0s 31ms/step\n",
            "1/1 [==============================] - 0s 31ms/step\n",
            "1/1 [==============================] - 0s 31ms/step\n",
            "1/1 [==============================] - 0s 31ms/step\n",
            "1/1 [==============================] - 0s 31ms/step\n",
            "1/1 [==============================] - 0s 38ms/step\n",
            "1/1 [==============================] - 0s 33ms/step\n",
            "1/1 [==============================] - 0s 31ms/step\n",
            "1/1 [==============================] - 0s 29ms/step\n",
            "1/1 [==============================] - 0s 35ms/step\n",
            "1/1 [==============================] - 0s 31ms/step\n",
            "1/1 [==============================] - 0s 39ms/step\n",
            "1/1 [==============================] - 0s 36ms/step\n",
            "1/1 [==============================] - 0s 36ms/step\n",
            "1/1 [==============================] - 0s 34ms/step\n",
            "1/1 [==============================] - 0s 30ms/step\n",
            "1/1 [==============================] - 0s 33ms/step\n",
            "1/1 [==============================] - 0s 32ms/step\n",
            "1/1 [==============================] - 0s 33ms/step\n",
            "1/1 [==============================] - 0s 31ms/step\n",
            "1/1 [==============================] - 0s 32ms/step\n",
            "1/1 [==============================] - 0s 31ms/step\n",
            "1/1 [==============================] - 0s 30ms/step\n",
            "1/1 [==============================] - 0s 32ms/step\n",
            "1/1 [==============================] - 0s 34ms/step\n",
            "1/1 [==============================] - 0s 30ms/step\n",
            "1/1 [==============================] - 0s 30ms/step\n",
            "1/1 [==============================] - 0s 29ms/step\n",
            "1/1 [==============================] - 0s 32ms/step\n",
            "1/1 [==============================] - 0s 31ms/step\n",
            "1/1 [==============================] - 0s 31ms/step\n",
            "1/1 [==============================] - 0s 29ms/step\n",
            "1/1 [==============================] - 0s 29ms/step\n",
            "1/1 [==============================] - 0s 31ms/step\n",
            "1/1 [==============================] - 0s 31ms/step\n"
          ]
        }
      ],
      "source": [
        "test_x = []\n",
        "test_y = []\n",
        "predicted = []\n",
        "for i in range(1000//batch_size):\n",
        "  x,y = next(test_gen)\n",
        "  test_x = test_x + [*x]\n",
        "  test_y = test_y + [*y]\n",
        "  predicted = predicted + [*model.predict(x)[:,-1]]\n",
        "mse = tf.keras.losses.MeanSquaredError()\n",
        "mse_tot = 0\n",
        "for i in range(len(test_y)):\n",
        "  mse_tot += mse(test_y[i], predicted[i]).numpy()\n",
        "mse_final = mse_tot / len(test_y)"
      ]
    },
    {
      "cell_type": "code",
      "execution_count": 31,
      "metadata": {
        "colab": {
          "base_uri": "https://localhost:8080/"
        },
        "id": "bInBi92A0VKY",
        "outputId": "5abe925a-5746-4e66-c38a-28b3783a7227"
      },
      "outputs": [
        {
          "name": "stdout",
          "output_type": "stream",
          "text": [
            "0.008996890635546973\n"
          ]
        }
      ],
      "source": [
        "print(mse_final)"
      ]
    }
  ],
  "metadata": {
    "accelerator": "GPU",
    "colab": {
      "gpuType": "T4",
      "machine_shape": "hm",
      "provenance": []
    },
    "kernelspec": {
      "display_name": "Python 3",
      "name": "python3"
    },
    "language_info": {
      "name": "python"
    },
    "widgets": {
      "application/vnd.jupyter.widget-state+json": {
        "10fefc727d1e4e358f0ec72440b9bbab": {
          "model_module": "@jupyter-widgets/base",
          "model_module_version": "1.2.0",
          "model_name": "LayoutModel",
          "state": {
            "_model_module": "@jupyter-widgets/base",
            "_model_module_version": "1.2.0",
            "_model_name": "LayoutModel",
            "_view_count": null,
            "_view_module": "@jupyter-widgets/base",
            "_view_module_version": "1.2.0",
            "_view_name": "LayoutView",
            "align_content": null,
            "align_items": null,
            "align_self": null,
            "border": null,
            "bottom": null,
            "display": null,
            "flex": null,
            "flex_flow": null,
            "grid_area": null,
            "grid_auto_columns": null,
            "grid_auto_flow": null,
            "grid_auto_rows": null,
            "grid_column": null,
            "grid_gap": null,
            "grid_row": null,
            "grid_template_areas": null,
            "grid_template_columns": null,
            "grid_template_rows": null,
            "height": null,
            "justify_content": null,
            "justify_items": null,
            "left": null,
            "margin": null,
            "max_height": null,
            "max_width": null,
            "min_height": null,
            "min_width": null,
            "object_fit": null,
            "object_position": null,
            "order": null,
            "overflow": null,
            "overflow_x": null,
            "overflow_y": null,
            "padding": null,
            "right": null,
            "top": null,
            "visibility": null,
            "width": null
          }
        },
        "165265a768c84428b0a64cb53b27227b": {
          "model_module": "@jupyter-widgets/controls",
          "model_module_version": "1.5.0",
          "model_name": "ProgressStyleModel",
          "state": {
            "_model_module": "@jupyter-widgets/controls",
            "_model_module_version": "1.5.0",
            "_model_name": "ProgressStyleModel",
            "_view_count": null,
            "_view_module": "@jupyter-widgets/base",
            "_view_module_version": "1.2.0",
            "_view_name": "StyleView",
            "bar_color": null,
            "description_width": ""
          }
        },
        "174c9181e90849eea8edd8df77b513b7": {
          "model_module": "@jupyter-widgets/base",
          "model_module_version": "1.2.0",
          "model_name": "LayoutModel",
          "state": {
            "_model_module": "@jupyter-widgets/base",
            "_model_module_version": "1.2.0",
            "_model_name": "LayoutModel",
            "_view_count": null,
            "_view_module": "@jupyter-widgets/base",
            "_view_module_version": "1.2.0",
            "_view_name": "LayoutView",
            "align_content": null,
            "align_items": null,
            "align_self": null,
            "border": null,
            "bottom": null,
            "display": null,
            "flex": null,
            "flex_flow": null,
            "grid_area": null,
            "grid_auto_columns": null,
            "grid_auto_flow": null,
            "grid_auto_rows": null,
            "grid_column": null,
            "grid_gap": null,
            "grid_row": null,
            "grid_template_areas": null,
            "grid_template_columns": null,
            "grid_template_rows": null,
            "height": null,
            "justify_content": null,
            "justify_items": null,
            "left": null,
            "margin": null,
            "max_height": null,
            "max_width": null,
            "min_height": null,
            "min_width": null,
            "object_fit": null,
            "object_position": null,
            "order": null,
            "overflow": null,
            "overflow_x": null,
            "overflow_y": null,
            "padding": null,
            "right": null,
            "top": null,
            "visibility": null,
            "width": null
          }
        },
        "17a8738ade544035923918af499747b8": {
          "model_module": "@jupyter-widgets/base",
          "model_module_version": "1.2.0",
          "model_name": "LayoutModel",
          "state": {
            "_model_module": "@jupyter-widgets/base",
            "_model_module_version": "1.2.0",
            "_model_name": "LayoutModel",
            "_view_count": null,
            "_view_module": "@jupyter-widgets/base",
            "_view_module_version": "1.2.0",
            "_view_name": "LayoutView",
            "align_content": null,
            "align_items": null,
            "align_self": null,
            "border": null,
            "bottom": null,
            "display": null,
            "flex": null,
            "flex_flow": null,
            "grid_area": null,
            "grid_auto_columns": null,
            "grid_auto_flow": null,
            "grid_auto_rows": null,
            "grid_column": null,
            "grid_gap": null,
            "grid_row": null,
            "grid_template_areas": null,
            "grid_template_columns": null,
            "grid_template_rows": null,
            "height": null,
            "justify_content": null,
            "justify_items": null,
            "left": null,
            "margin": null,
            "max_height": null,
            "max_width": null,
            "min_height": null,
            "min_width": null,
            "object_fit": null,
            "object_position": null,
            "order": null,
            "overflow": null,
            "overflow_x": null,
            "overflow_y": null,
            "padding": null,
            "right": null,
            "top": null,
            "visibility": null,
            "width": null
          }
        },
        "18a8772afa2644aaad0eba15ba178ddf": {
          "model_module": "@jupyter-widgets/controls",
          "model_module_version": "1.5.0",
          "model_name": "HTMLModel",
          "state": {
            "_dom_classes": [],
            "_model_module": "@jupyter-widgets/controls",
            "_model_module_version": "1.5.0",
            "_model_name": "HTMLModel",
            "_view_count": null,
            "_view_module": "@jupyter-widgets/controls",
            "_view_module_version": "1.5.0",
            "_view_name": "HTMLView",
            "description": "",
            "description_tooltip": null,
            "layout": "IPY_MODEL_17a8738ade544035923918af499747b8",
            "placeholder": "​",
            "style": "IPY_MODEL_7f4add4d32d245c0a017ee538c7a1edd",
            "value": " 9993/10000 [01:54&lt;00:00, 93.10 examples/s]"
          }
        },
        "1b99888ef4774ababfb8f8c376cd7124": {
          "model_module": "@jupyter-widgets/controls",
          "model_module_version": "1.5.0",
          "model_name": "DescriptionStyleModel",
          "state": {
            "_model_module": "@jupyter-widgets/controls",
            "_model_module_version": "1.5.0",
            "_model_name": "DescriptionStyleModel",
            "_view_count": null,
            "_view_module": "@jupyter-widgets/base",
            "_view_module_version": "1.2.0",
            "_view_name": "StyleView",
            "description_width": ""
          }
        },
        "22dd7a3b30eb409aa1a4eb54e73da6a6": {
          "model_module": "@jupyter-widgets/base",
          "model_module_version": "1.2.0",
          "model_name": "LayoutModel",
          "state": {
            "_model_module": "@jupyter-widgets/base",
            "_model_module_version": "1.2.0",
            "_model_name": "LayoutModel",
            "_view_count": null,
            "_view_module": "@jupyter-widgets/base",
            "_view_module_version": "1.2.0",
            "_view_name": "LayoutView",
            "align_content": null,
            "align_items": null,
            "align_self": null,
            "border": null,
            "bottom": null,
            "display": null,
            "flex": null,
            "flex_flow": null,
            "grid_area": null,
            "grid_auto_columns": null,
            "grid_auto_flow": null,
            "grid_auto_rows": null,
            "grid_column": null,
            "grid_gap": null,
            "grid_row": null,
            "grid_template_areas": null,
            "grid_template_columns": null,
            "grid_template_rows": null,
            "height": null,
            "justify_content": null,
            "justify_items": null,
            "left": null,
            "margin": null,
            "max_height": null,
            "max_width": null,
            "min_height": null,
            "min_width": null,
            "object_fit": null,
            "object_position": null,
            "order": null,
            "overflow": null,
            "overflow_x": null,
            "overflow_y": null,
            "padding": null,
            "right": null,
            "top": null,
            "visibility": null,
            "width": null
          }
        },
        "2603780ce7c64170942a16e0d68afdce": {
          "model_module": "@jupyter-widgets/controls",
          "model_module_version": "1.5.0",
          "model_name": "FloatProgressModel",
          "state": {
            "_dom_classes": [],
            "_model_module": "@jupyter-widgets/controls",
            "_model_module_version": "1.5.0",
            "_model_name": "FloatProgressModel",
            "_view_count": null,
            "_view_module": "@jupyter-widgets/controls",
            "_view_module_version": "1.5.0",
            "_view_name": "ProgressView",
            "bar_style": "success",
            "description": "",
            "description_tooltip": null,
            "layout": "IPY_MODEL_dbd282452d6b407aa4be3ae279c46ee3",
            "max": 1,
            "min": 0,
            "orientation": "horizontal",
            "style": "IPY_MODEL_e400ba6ca4b242029293f0dc1f66661b",
            "value": 1
          }
        },
        "2d54f51fa7174017b9e2b5b8ae7b231a": {
          "model_module": "@jupyter-widgets/controls",
          "model_module_version": "1.5.0",
          "model_name": "HTMLModel",
          "state": {
            "_dom_classes": [],
            "_model_module": "@jupyter-widgets/controls",
            "_model_module_version": "1.5.0",
            "_model_name": "HTMLModel",
            "_view_count": null,
            "_view_module": "@jupyter-widgets/controls",
            "_view_module_version": "1.5.0",
            "_view_name": "HTMLView",
            "description": "",
            "description_tooltip": null,
            "layout": "IPY_MODEL_f343fa4e208b40aabc663276ab57604a",
            "placeholder": "​",
            "style": "IPY_MODEL_71762e9eeb6a403683faf39ba5140741",
            "value": " 1/1 [00:12&lt;00:00, 12.08s/ url]"
          }
        },
        "30fd07e07f5a45acbb34973cd0a30416": {
          "model_module": "@jupyter-widgets/controls",
          "model_module_version": "1.5.0",
          "model_name": "HTMLModel",
          "state": {
            "_dom_classes": [],
            "_model_module": "@jupyter-widgets/controls",
            "_model_module_version": "1.5.0",
            "_model_name": "HTMLModel",
            "_view_count": null,
            "_view_module": "@jupyter-widgets/controls",
            "_view_module_version": "1.5.0",
            "_view_name": "HTMLView",
            "description": "",
            "description_tooltip": null,
            "layout": "IPY_MODEL_89595f4ff38c4f7dade6d1a395267fce",
            "placeholder": "​",
            "style": "IPY_MODEL_ca19de96cc0d4f6da59e362e2da367f4",
            "value": "Dl Size...: 100%"
          }
        },
        "36e59b085b3e4f5884ea3cd4f98545f3": {
          "model_module": "@jupyter-widgets/controls",
          "model_module_version": "1.5.0",
          "model_name": "HTMLModel",
          "state": {
            "_dom_classes": [],
            "_model_module": "@jupyter-widgets/controls",
            "_model_module_version": "1.5.0",
            "_model_name": "HTMLModel",
            "_view_count": null,
            "_view_module": "@jupyter-widgets/controls",
            "_view_module_version": "1.5.0",
            "_view_name": "HTMLView",
            "description": "",
            "description_tooltip": null,
            "layout": "IPY_MODEL_95ce8cf891c74d7f930c807a756c910d",
            "placeholder": "​",
            "style": "IPY_MODEL_1b99888ef4774ababfb8f8c376cd7124",
            "value": " 781/781 [00:12&lt;00:00, 76.22 MiB/s]"
          }
        },
        "432e6cfc314c4e2eaf50d2617f01f03f": {
          "model_module": "@jupyter-widgets/controls",
          "model_module_version": "1.5.0",
          "model_name": "ProgressStyleModel",
          "state": {
            "_model_module": "@jupyter-widgets/controls",
            "_model_module_version": "1.5.0",
            "_model_name": "ProgressStyleModel",
            "_view_count": null,
            "_view_module": "@jupyter-widgets/base",
            "_view_module_version": "1.2.0",
            "_view_name": "StyleView",
            "bar_color": null,
            "description_width": ""
          }
        },
        "43d9f6fb5ea6464e857570af954bf669": {
          "model_module": "@jupyter-widgets/base",
          "model_module_version": "1.2.0",
          "model_name": "LayoutModel",
          "state": {
            "_model_module": "@jupyter-widgets/base",
            "_model_module_version": "1.2.0",
            "_model_name": "LayoutModel",
            "_view_count": null,
            "_view_module": "@jupyter-widgets/base",
            "_view_module_version": "1.2.0",
            "_view_name": "LayoutView",
            "align_content": null,
            "align_items": null,
            "align_self": null,
            "border": null,
            "bottom": null,
            "display": null,
            "flex": null,
            "flex_flow": null,
            "grid_area": null,
            "grid_auto_columns": null,
            "grid_auto_flow": null,
            "grid_auto_rows": null,
            "grid_column": null,
            "grid_gap": null,
            "grid_row": null,
            "grid_template_areas": null,
            "grid_template_columns": null,
            "grid_template_rows": null,
            "height": null,
            "justify_content": null,
            "justify_items": null,
            "left": null,
            "margin": null,
            "max_height": null,
            "max_width": null,
            "min_height": null,
            "min_width": null,
            "object_fit": null,
            "object_position": null,
            "order": null,
            "overflow": null,
            "overflow_x": null,
            "overflow_y": null,
            "padding": null,
            "right": null,
            "top": null,
            "visibility": null,
            "width": null
          }
        },
        "447c25f9b8e5487297d6a4211089f516": {
          "model_module": "@jupyter-widgets/base",
          "model_module_version": "1.2.0",
          "model_name": "LayoutModel",
          "state": {
            "_model_module": "@jupyter-widgets/base",
            "_model_module_version": "1.2.0",
            "_model_name": "LayoutModel",
            "_view_count": null,
            "_view_module": "@jupyter-widgets/base",
            "_view_module_version": "1.2.0",
            "_view_name": "LayoutView",
            "align_content": null,
            "align_items": null,
            "align_self": null,
            "border": null,
            "bottom": null,
            "display": null,
            "flex": null,
            "flex_flow": null,
            "grid_area": null,
            "grid_auto_columns": null,
            "grid_auto_flow": null,
            "grid_auto_rows": null,
            "grid_column": null,
            "grid_gap": null,
            "grid_row": null,
            "grid_template_areas": null,
            "grid_template_columns": null,
            "grid_template_rows": null,
            "height": null,
            "justify_content": null,
            "justify_items": null,
            "left": null,
            "margin": null,
            "max_height": null,
            "max_width": null,
            "min_height": null,
            "min_width": null,
            "object_fit": null,
            "object_position": null,
            "order": null,
            "overflow": null,
            "overflow_x": null,
            "overflow_y": null,
            "padding": null,
            "right": null,
            "top": null,
            "visibility": null,
            "width": null
          }
        },
        "4490b11c2b174f13acd4a91cd74b51a9": {
          "model_module": "@jupyter-widgets/controls",
          "model_module_version": "1.5.0",
          "model_name": "DescriptionStyleModel",
          "state": {
            "_model_module": "@jupyter-widgets/controls",
            "_model_module_version": "1.5.0",
            "_model_name": "DescriptionStyleModel",
            "_view_count": null,
            "_view_module": "@jupyter-widgets/base",
            "_view_module_version": "1.2.0",
            "_view_name": "StyleView",
            "description_width": ""
          }
        },
        "46bca573069e44e3bcec46f11d5ecf59": {
          "model_module": "@jupyter-widgets/controls",
          "model_module_version": "1.5.0",
          "model_name": "FloatProgressModel",
          "state": {
            "_dom_classes": [],
            "_model_module": "@jupyter-widgets/controls",
            "_model_module_version": "1.5.0",
            "_model_name": "FloatProgressModel",
            "_view_count": null,
            "_view_module": "@jupyter-widgets/controls",
            "_view_module_version": "1.5.0",
            "_view_name": "ProgressView",
            "bar_style": "",
            "description": "",
            "description_tooltip": null,
            "layout": "IPY_MODEL_8453bff3b567443c9c2355c45d0ba700",
            "max": 10000,
            "min": 0,
            "orientation": "horizontal",
            "style": "IPY_MODEL_aecb20fac60c41b6b0f5b3be79711f06",
            "value": 10000
          }
        },
        "46c0803737954f1b9588481e91fd1129": {
          "model_module": "@jupyter-widgets/controls",
          "model_module_version": "1.5.0",
          "model_name": "HBoxModel",
          "state": {
            "_dom_classes": [],
            "_model_module": "@jupyter-widgets/controls",
            "_model_module_version": "1.5.0",
            "_model_name": "HBoxModel",
            "_view_count": null,
            "_view_module": "@jupyter-widgets/controls",
            "_view_module_version": "1.5.0",
            "_view_name": "HBoxView",
            "box_style": "",
            "children": [
              "IPY_MODEL_b26650d6e8c74ccf93d94691f8f44eaf",
              "IPY_MODEL_6ee707abeb3946d4a319088c259234ec",
              "IPY_MODEL_18a8772afa2644aaad0eba15ba178ddf"
            ],
            "layout": "IPY_MODEL_7cc8390b46834b97b4369e5d2c03bc33"
          }
        },
        "4be69e9ab8a046ceac56a257ebdbebf2": {
          "model_module": "@jupyter-widgets/base",
          "model_module_version": "1.2.0",
          "model_name": "LayoutModel",
          "state": {
            "_model_module": "@jupyter-widgets/base",
            "_model_module_version": "1.2.0",
            "_model_name": "LayoutModel",
            "_view_count": null,
            "_view_module": "@jupyter-widgets/base",
            "_view_module_version": "1.2.0",
            "_view_name": "LayoutView",
            "align_content": null,
            "align_items": null,
            "align_self": null,
            "border": null,
            "bottom": null,
            "display": null,
            "flex": null,
            "flex_flow": null,
            "grid_area": null,
            "grid_auto_columns": null,
            "grid_auto_flow": null,
            "grid_auto_rows": null,
            "grid_column": null,
            "grid_gap": null,
            "grid_row": null,
            "grid_template_areas": null,
            "grid_template_columns": null,
            "grid_template_rows": null,
            "height": null,
            "justify_content": null,
            "justify_items": null,
            "left": null,
            "margin": null,
            "max_height": null,
            "max_width": null,
            "min_height": null,
            "min_width": null,
            "object_fit": null,
            "object_position": null,
            "order": null,
            "overflow": null,
            "overflow_x": null,
            "overflow_y": null,
            "padding": null,
            "right": null,
            "top": null,
            "visibility": null,
            "width": null
          }
        },
        "4ed007c1192d415eacf991520d19a371": {
          "model_module": "@jupyter-widgets/controls",
          "model_module_version": "1.5.0",
          "model_name": "DescriptionStyleModel",
          "state": {
            "_model_module": "@jupyter-widgets/controls",
            "_model_module_version": "1.5.0",
            "_model_name": "DescriptionStyleModel",
            "_view_count": null,
            "_view_module": "@jupyter-widgets/base",
            "_view_module_version": "1.2.0",
            "_view_name": "StyleView",
            "description_width": ""
          }
        },
        "59b64db6ab1140e797339466d9fb894b": {
          "model_module": "@jupyter-widgets/base",
          "model_module_version": "1.2.0",
          "model_name": "LayoutModel",
          "state": {
            "_model_module": "@jupyter-widgets/base",
            "_model_module_version": "1.2.0",
            "_model_name": "LayoutModel",
            "_view_count": null,
            "_view_module": "@jupyter-widgets/base",
            "_view_module_version": "1.2.0",
            "_view_name": "LayoutView",
            "align_content": null,
            "align_items": null,
            "align_self": null,
            "border": null,
            "bottom": null,
            "display": null,
            "flex": null,
            "flex_flow": null,
            "grid_area": null,
            "grid_auto_columns": null,
            "grid_auto_flow": null,
            "grid_auto_rows": null,
            "grid_column": null,
            "grid_gap": null,
            "grid_row": null,
            "grid_template_areas": null,
            "grid_template_columns": null,
            "grid_template_rows": null,
            "height": null,
            "justify_content": null,
            "justify_items": null,
            "left": null,
            "margin": null,
            "max_height": null,
            "max_width": null,
            "min_height": null,
            "min_width": null,
            "object_fit": null,
            "object_position": null,
            "order": null,
            "overflow": null,
            "overflow_x": null,
            "overflow_y": null,
            "padding": null,
            "right": null,
            "top": null,
            "visibility": null,
            "width": null
          }
        },
        "5a79b0b1455b4f77bf7515d4f0cff3c9": {
          "model_module": "@jupyter-widgets/controls",
          "model_module_version": "1.5.0",
          "model_name": "HTMLModel",
          "state": {
            "_dom_classes": [],
            "_model_module": "@jupyter-widgets/controls",
            "_model_module_version": "1.5.0",
            "_model_name": "HTMLModel",
            "_view_count": null,
            "_view_module": "@jupyter-widgets/controls",
            "_view_module_version": "1.5.0",
            "_view_name": "HTMLView",
            "description": "",
            "description_tooltip": null,
            "layout": "IPY_MODEL_22dd7a3b30eb409aa1a4eb54e73da6a6",
            "placeholder": "​",
            "style": "IPY_MODEL_4490b11c2b174f13acd4a91cd74b51a9",
            "value": "Shuffling /root/tensorflow_datasets/moving_mnist/1.0.0.incompleteGOGOKB/moving_mnist-test.tfrecord*...:  67%"
          }
        },
        "5b9d12145b004c118581cb406c9f1317": {
          "model_module": "@jupyter-widgets/controls",
          "model_module_version": "1.5.0",
          "model_name": "HTMLModel",
          "state": {
            "_dom_classes": [],
            "_model_module": "@jupyter-widgets/controls",
            "_model_module_version": "1.5.0",
            "_model_name": "HTMLModel",
            "_view_count": null,
            "_view_module": "@jupyter-widgets/controls",
            "_view_module_version": "1.5.0",
            "_view_name": "HTMLView",
            "description": "",
            "description_tooltip": null,
            "layout": "IPY_MODEL_cce5b44e8fcf42a2afa19023573954b6",
            "placeholder": "​",
            "style": "IPY_MODEL_70b02d4104e946f28dc9cee974429221",
            "value": "Generating splits...: 100%"
          }
        },
        "6ee707abeb3946d4a319088c259234ec": {
          "model_module": "@jupyter-widgets/controls",
          "model_module_version": "1.5.0",
          "model_name": "FloatProgressModel",
          "state": {
            "_dom_classes": [],
            "_model_module": "@jupyter-widgets/controls",
            "_model_module_version": "1.5.0",
            "_model_name": "FloatProgressModel",
            "_view_count": null,
            "_view_module": "@jupyter-widgets/controls",
            "_view_module_version": "1.5.0",
            "_view_name": "ProgressView",
            "bar_style": "",
            "description": "",
            "description_tooltip": null,
            "layout": "IPY_MODEL_43d9f6fb5ea6464e857570af954bf669",
            "max": 10000,
            "min": 0,
            "orientation": "horizontal",
            "style": "IPY_MODEL_432e6cfc314c4e2eaf50d2617f01f03f",
            "value": 10000
          }
        },
        "70b02d4104e946f28dc9cee974429221": {
          "model_module": "@jupyter-widgets/controls",
          "model_module_version": "1.5.0",
          "model_name": "DescriptionStyleModel",
          "state": {
            "_model_module": "@jupyter-widgets/controls",
            "_model_module_version": "1.5.0",
            "_model_name": "DescriptionStyleModel",
            "_view_count": null,
            "_view_module": "@jupyter-widgets/base",
            "_view_module_version": "1.2.0",
            "_view_name": "StyleView",
            "description_width": ""
          }
        },
        "71762e9eeb6a403683faf39ba5140741": {
          "model_module": "@jupyter-widgets/controls",
          "model_module_version": "1.5.0",
          "model_name": "DescriptionStyleModel",
          "state": {
            "_model_module": "@jupyter-widgets/controls",
            "_model_module_version": "1.5.0",
            "_model_name": "DescriptionStyleModel",
            "_view_count": null,
            "_view_module": "@jupyter-widgets/base",
            "_view_module_version": "1.2.0",
            "_view_name": "StyleView",
            "description_width": ""
          }
        },
        "781c478d1cc24429b5a24b7db193814c": {
          "model_module": "@jupyter-widgets/base",
          "model_module_version": "1.2.0",
          "model_name": "LayoutModel",
          "state": {
            "_model_module": "@jupyter-widgets/base",
            "_model_module_version": "1.2.0",
            "_model_name": "LayoutModel",
            "_view_count": null,
            "_view_module": "@jupyter-widgets/base",
            "_view_module_version": "1.2.0",
            "_view_name": "LayoutView",
            "align_content": null,
            "align_items": null,
            "align_self": null,
            "border": null,
            "bottom": null,
            "display": null,
            "flex": null,
            "flex_flow": null,
            "grid_area": null,
            "grid_auto_columns": null,
            "grid_auto_flow": null,
            "grid_auto_rows": null,
            "grid_column": null,
            "grid_gap": null,
            "grid_row": null,
            "grid_template_areas": null,
            "grid_template_columns": null,
            "grid_template_rows": null,
            "height": null,
            "justify_content": null,
            "justify_items": null,
            "left": null,
            "margin": null,
            "max_height": null,
            "max_width": null,
            "min_height": null,
            "min_width": null,
            "object_fit": null,
            "object_position": null,
            "order": null,
            "overflow": null,
            "overflow_x": null,
            "overflow_y": null,
            "padding": null,
            "right": null,
            "top": null,
            "visibility": "hidden",
            "width": null
          }
        },
        "7cc8390b46834b97b4369e5d2c03bc33": {
          "model_module": "@jupyter-widgets/base",
          "model_module_version": "1.2.0",
          "model_name": "LayoutModel",
          "state": {
            "_model_module": "@jupyter-widgets/base",
            "_model_module_version": "1.2.0",
            "_model_name": "LayoutModel",
            "_view_count": null,
            "_view_module": "@jupyter-widgets/base",
            "_view_module_version": "1.2.0",
            "_view_name": "LayoutView",
            "align_content": null,
            "align_items": null,
            "align_self": null,
            "border": null,
            "bottom": null,
            "display": null,
            "flex": null,
            "flex_flow": null,
            "grid_area": null,
            "grid_auto_columns": null,
            "grid_auto_flow": null,
            "grid_auto_rows": null,
            "grid_column": null,
            "grid_gap": null,
            "grid_row": null,
            "grid_template_areas": null,
            "grid_template_columns": null,
            "grid_template_rows": null,
            "height": null,
            "justify_content": null,
            "justify_items": null,
            "left": null,
            "margin": null,
            "max_height": null,
            "max_width": null,
            "min_height": null,
            "min_width": null,
            "object_fit": null,
            "object_position": null,
            "order": null,
            "overflow": null,
            "overflow_x": null,
            "overflow_y": null,
            "padding": null,
            "right": null,
            "top": null,
            "visibility": "hidden",
            "width": null
          }
        },
        "7f4add4d32d245c0a017ee538c7a1edd": {
          "model_module": "@jupyter-widgets/controls",
          "model_module_version": "1.5.0",
          "model_name": "DescriptionStyleModel",
          "state": {
            "_model_module": "@jupyter-widgets/controls",
            "_model_module_version": "1.5.0",
            "_model_name": "DescriptionStyleModel",
            "_view_count": null,
            "_view_module": "@jupyter-widgets/base",
            "_view_module_version": "1.2.0",
            "_view_name": "StyleView",
            "description_width": ""
          }
        },
        "8453bff3b567443c9c2355c45d0ba700": {
          "model_module": "@jupyter-widgets/base",
          "model_module_version": "1.2.0",
          "model_name": "LayoutModel",
          "state": {
            "_model_module": "@jupyter-widgets/base",
            "_model_module_version": "1.2.0",
            "_model_name": "LayoutModel",
            "_view_count": null,
            "_view_module": "@jupyter-widgets/base",
            "_view_module_version": "1.2.0",
            "_view_name": "LayoutView",
            "align_content": null,
            "align_items": null,
            "align_self": null,
            "border": null,
            "bottom": null,
            "display": null,
            "flex": null,
            "flex_flow": null,
            "grid_area": null,
            "grid_auto_columns": null,
            "grid_auto_flow": null,
            "grid_auto_rows": null,
            "grid_column": null,
            "grid_gap": null,
            "grid_row": null,
            "grid_template_areas": null,
            "grid_template_columns": null,
            "grid_template_rows": null,
            "height": null,
            "justify_content": null,
            "justify_items": null,
            "left": null,
            "margin": null,
            "max_height": null,
            "max_width": null,
            "min_height": null,
            "min_width": null,
            "object_fit": null,
            "object_position": null,
            "order": null,
            "overflow": null,
            "overflow_x": null,
            "overflow_y": null,
            "padding": null,
            "right": null,
            "top": null,
            "visibility": null,
            "width": null
          }
        },
        "865da875b12a42d68e4c67295767fe68": {
          "model_module": "@jupyter-widgets/controls",
          "model_module_version": "1.5.0",
          "model_name": "FloatProgressModel",
          "state": {
            "_dom_classes": [],
            "_model_module": "@jupyter-widgets/controls",
            "_model_module_version": "1.5.0",
            "_model_name": "FloatProgressModel",
            "_view_count": null,
            "_view_module": "@jupyter-widgets/controls",
            "_view_module_version": "1.5.0",
            "_view_name": "ProgressView",
            "bar_style": "success",
            "description": "",
            "description_tooltip": null,
            "layout": "IPY_MODEL_c039dac535a44a2c91db3385f06893e9",
            "max": 1,
            "min": 0,
            "orientation": "horizontal",
            "style": "IPY_MODEL_165265a768c84428b0a64cb53b27227b",
            "value": 1
          }
        },
        "892aada5cffb4ed789c4bbee332e0494": {
          "model_module": "@jupyter-widgets/base",
          "model_module_version": "1.2.0",
          "model_name": "LayoutModel",
          "state": {
            "_model_module": "@jupyter-widgets/base",
            "_model_module_version": "1.2.0",
            "_model_name": "LayoutModel",
            "_view_count": null,
            "_view_module": "@jupyter-widgets/base",
            "_view_module_version": "1.2.0",
            "_view_name": "LayoutView",
            "align_content": null,
            "align_items": null,
            "align_self": null,
            "border": null,
            "bottom": null,
            "display": null,
            "flex": null,
            "flex_flow": null,
            "grid_area": null,
            "grid_auto_columns": null,
            "grid_auto_flow": null,
            "grid_auto_rows": null,
            "grid_column": null,
            "grid_gap": null,
            "grid_row": null,
            "grid_template_areas": null,
            "grid_template_columns": null,
            "grid_template_rows": null,
            "height": null,
            "justify_content": null,
            "justify_items": null,
            "left": null,
            "margin": null,
            "max_height": null,
            "max_width": null,
            "min_height": null,
            "min_width": null,
            "object_fit": null,
            "object_position": null,
            "order": null,
            "overflow": null,
            "overflow_x": null,
            "overflow_y": null,
            "padding": null,
            "right": null,
            "top": null,
            "visibility": null,
            "width": null
          }
        },
        "89595f4ff38c4f7dade6d1a395267fce": {
          "model_module": "@jupyter-widgets/base",
          "model_module_version": "1.2.0",
          "model_name": "LayoutModel",
          "state": {
            "_model_module": "@jupyter-widgets/base",
            "_model_module_version": "1.2.0",
            "_model_name": "LayoutModel",
            "_view_count": null,
            "_view_module": "@jupyter-widgets/base",
            "_view_module_version": "1.2.0",
            "_view_name": "LayoutView",
            "align_content": null,
            "align_items": null,
            "align_self": null,
            "border": null,
            "bottom": null,
            "display": null,
            "flex": null,
            "flex_flow": null,
            "grid_area": null,
            "grid_auto_columns": null,
            "grid_auto_flow": null,
            "grid_auto_rows": null,
            "grid_column": null,
            "grid_gap": null,
            "grid_row": null,
            "grid_template_areas": null,
            "grid_template_columns": null,
            "grid_template_rows": null,
            "height": null,
            "justify_content": null,
            "justify_items": null,
            "left": null,
            "margin": null,
            "max_height": null,
            "max_width": null,
            "min_height": null,
            "min_width": null,
            "object_fit": null,
            "object_position": null,
            "order": null,
            "overflow": null,
            "overflow_x": null,
            "overflow_y": null,
            "padding": null,
            "right": null,
            "top": null,
            "visibility": null,
            "width": null
          }
        },
        "8c89b14fa22a4beeaf4b4afe6d560f14": {
          "model_module": "@jupyter-widgets/base",
          "model_module_version": "1.2.0",
          "model_name": "LayoutModel",
          "state": {
            "_model_module": "@jupyter-widgets/base",
            "_model_module_version": "1.2.0",
            "_model_name": "LayoutModel",
            "_view_count": null,
            "_view_module": "@jupyter-widgets/base",
            "_view_module_version": "1.2.0",
            "_view_name": "LayoutView",
            "align_content": null,
            "align_items": null,
            "align_self": null,
            "border": null,
            "bottom": null,
            "display": null,
            "flex": null,
            "flex_flow": null,
            "grid_area": null,
            "grid_auto_columns": null,
            "grid_auto_flow": null,
            "grid_auto_rows": null,
            "grid_column": null,
            "grid_gap": null,
            "grid_row": null,
            "grid_template_areas": null,
            "grid_template_columns": null,
            "grid_template_rows": null,
            "height": null,
            "justify_content": null,
            "justify_items": null,
            "left": null,
            "margin": null,
            "max_height": null,
            "max_width": null,
            "min_height": null,
            "min_width": null,
            "object_fit": null,
            "object_position": null,
            "order": null,
            "overflow": null,
            "overflow_x": null,
            "overflow_y": null,
            "padding": null,
            "right": null,
            "top": null,
            "visibility": "hidden",
            "width": null
          }
        },
        "95ce8cf891c74d7f930c807a756c910d": {
          "model_module": "@jupyter-widgets/base",
          "model_module_version": "1.2.0",
          "model_name": "LayoutModel",
          "state": {
            "_model_module": "@jupyter-widgets/base",
            "_model_module_version": "1.2.0",
            "_model_name": "LayoutModel",
            "_view_count": null,
            "_view_module": "@jupyter-widgets/base",
            "_view_module_version": "1.2.0",
            "_view_name": "LayoutView",
            "align_content": null,
            "align_items": null,
            "align_self": null,
            "border": null,
            "bottom": null,
            "display": null,
            "flex": null,
            "flex_flow": null,
            "grid_area": null,
            "grid_auto_columns": null,
            "grid_auto_flow": null,
            "grid_auto_rows": null,
            "grid_column": null,
            "grid_gap": null,
            "grid_row": null,
            "grid_template_areas": null,
            "grid_template_columns": null,
            "grid_template_rows": null,
            "height": null,
            "justify_content": null,
            "justify_items": null,
            "left": null,
            "margin": null,
            "max_height": null,
            "max_width": null,
            "min_height": null,
            "min_width": null,
            "object_fit": null,
            "object_position": null,
            "order": null,
            "overflow": null,
            "overflow_x": null,
            "overflow_y": null,
            "padding": null,
            "right": null,
            "top": null,
            "visibility": null,
            "width": null
          }
        },
        "9bcc2944aebf4b6e8aa99ce5061343df": {
          "model_module": "@jupyter-widgets/controls",
          "model_module_version": "1.5.0",
          "model_name": "HBoxModel",
          "state": {
            "_dom_classes": [],
            "_model_module": "@jupyter-widgets/controls",
            "_model_module_version": "1.5.0",
            "_model_name": "HBoxModel",
            "_view_count": null,
            "_view_module": "@jupyter-widgets/controls",
            "_view_module_version": "1.5.0",
            "_view_name": "HBoxView",
            "box_style": "",
            "children": [
              "IPY_MODEL_5a79b0b1455b4f77bf7515d4f0cff3c9",
              "IPY_MODEL_46bca573069e44e3bcec46f11d5ecf59",
              "IPY_MODEL_ca07988c7fde4a2084ef4c5bd6fe2af5"
            ],
            "layout": "IPY_MODEL_8c89b14fa22a4beeaf4b4afe6d560f14"
          }
        },
        "aecb20fac60c41b6b0f5b3be79711f06": {
          "model_module": "@jupyter-widgets/controls",
          "model_module_version": "1.5.0",
          "model_name": "ProgressStyleModel",
          "state": {
            "_model_module": "@jupyter-widgets/controls",
            "_model_module_version": "1.5.0",
            "_model_name": "ProgressStyleModel",
            "_view_count": null,
            "_view_module": "@jupyter-widgets/base",
            "_view_module_version": "1.2.0",
            "_view_name": "StyleView",
            "bar_color": null,
            "description_width": ""
          }
        },
        "b212fa0a650649f5a3acde43c3715489": {
          "model_module": "@jupyter-widgets/controls",
          "model_module_version": "1.5.0",
          "model_name": "HBoxModel",
          "state": {
            "_dom_classes": [],
            "_model_module": "@jupyter-widgets/controls",
            "_model_module_version": "1.5.0",
            "_model_name": "HBoxModel",
            "_view_count": null,
            "_view_module": "@jupyter-widgets/controls",
            "_view_module_version": "1.5.0",
            "_view_name": "HBoxView",
            "box_style": "",
            "children": [
              "IPY_MODEL_30fd07e07f5a45acbb34973cd0a30416",
              "IPY_MODEL_865da875b12a42d68e4c67295767fe68",
              "IPY_MODEL_36e59b085b3e4f5884ea3cd4f98545f3"
            ],
            "layout": "IPY_MODEL_892aada5cffb4ed789c4bbee332e0494"
          }
        },
        "b26650d6e8c74ccf93d94691f8f44eaf": {
          "model_module": "@jupyter-widgets/controls",
          "model_module_version": "1.5.0",
          "model_name": "HTMLModel",
          "state": {
            "_dom_classes": [],
            "_model_module": "@jupyter-widgets/controls",
            "_model_module_version": "1.5.0",
            "_model_name": "HTMLModel",
            "_view_count": null,
            "_view_module": "@jupyter-widgets/controls",
            "_view_module_version": "1.5.0",
            "_view_name": "HTMLView",
            "description": "",
            "description_tooltip": null,
            "layout": "IPY_MODEL_174c9181e90849eea8edd8df77b513b7",
            "placeholder": "​",
            "style": "IPY_MODEL_b35c255522474757a1af9e59cfccedc3",
            "value": "Generating test examples...: 100%"
          }
        },
        "b35c255522474757a1af9e59cfccedc3": {
          "model_module": "@jupyter-widgets/controls",
          "model_module_version": "1.5.0",
          "model_name": "DescriptionStyleModel",
          "state": {
            "_model_module": "@jupyter-widgets/controls",
            "_model_module_version": "1.5.0",
            "_model_name": "DescriptionStyleModel",
            "_view_count": null,
            "_view_module": "@jupyter-widgets/base",
            "_view_module_version": "1.2.0",
            "_view_name": "StyleView",
            "description_width": ""
          }
        },
        "b3964ba5cade472eb21c76f21c4665c6": {
          "model_module": "@jupyter-widgets/base",
          "model_module_version": "1.2.0",
          "model_name": "LayoutModel",
          "state": {
            "_model_module": "@jupyter-widgets/base",
            "_model_module_version": "1.2.0",
            "_model_name": "LayoutModel",
            "_view_count": null,
            "_view_module": "@jupyter-widgets/base",
            "_view_module_version": "1.2.0",
            "_view_name": "LayoutView",
            "align_content": null,
            "align_items": null,
            "align_self": null,
            "border": null,
            "bottom": null,
            "display": null,
            "flex": null,
            "flex_flow": null,
            "grid_area": null,
            "grid_auto_columns": null,
            "grid_auto_flow": null,
            "grid_auto_rows": null,
            "grid_column": null,
            "grid_gap": null,
            "grid_row": null,
            "grid_template_areas": null,
            "grid_template_columns": null,
            "grid_template_rows": null,
            "height": null,
            "justify_content": null,
            "justify_items": null,
            "left": null,
            "margin": null,
            "max_height": null,
            "max_width": null,
            "min_height": null,
            "min_width": null,
            "object_fit": null,
            "object_position": null,
            "order": null,
            "overflow": null,
            "overflow_x": null,
            "overflow_y": null,
            "padding": null,
            "right": null,
            "top": null,
            "visibility": null,
            "width": null
          }
        },
        "b91aba5745284dfabab748163c00ed47": {
          "model_module": "@jupyter-widgets/controls",
          "model_module_version": "1.5.0",
          "model_name": "ProgressStyleModel",
          "state": {
            "_model_module": "@jupyter-widgets/controls",
            "_model_module_version": "1.5.0",
            "_model_name": "ProgressStyleModel",
            "_view_count": null,
            "_view_module": "@jupyter-widgets/base",
            "_view_module_version": "1.2.0",
            "_view_name": "StyleView",
            "bar_color": null,
            "description_width": ""
          }
        },
        "bbe462ddedde4aaea5c50dc62f7a72ce": {
          "model_module": "@jupyter-widgets/controls",
          "model_module_version": "1.5.0",
          "model_name": "FloatProgressModel",
          "state": {
            "_dom_classes": [],
            "_model_module": "@jupyter-widgets/controls",
            "_model_module_version": "1.5.0",
            "_model_name": "FloatProgressModel",
            "_view_count": null,
            "_view_module": "@jupyter-widgets/controls",
            "_view_module_version": "1.5.0",
            "_view_name": "ProgressView",
            "bar_style": "",
            "description": "",
            "description_tooltip": null,
            "layout": "IPY_MODEL_b3964ba5cade472eb21c76f21c4665c6",
            "max": 1,
            "min": 0,
            "orientation": "horizontal",
            "style": "IPY_MODEL_b91aba5745284dfabab748163c00ed47",
            "value": 1
          }
        },
        "bd4e289bcfa042f6996f2c30c32555c7": {
          "model_module": "@jupyter-widgets/controls",
          "model_module_version": "1.5.0",
          "model_name": "HTMLModel",
          "state": {
            "_dom_classes": [],
            "_model_module": "@jupyter-widgets/controls",
            "_model_module_version": "1.5.0",
            "_model_name": "HTMLModel",
            "_view_count": null,
            "_view_module": "@jupyter-widgets/controls",
            "_view_module_version": "1.5.0",
            "_view_name": "HTMLView",
            "description": "",
            "description_tooltip": null,
            "layout": "IPY_MODEL_10fefc727d1e4e358f0ec72440b9bbab",
            "placeholder": "​",
            "style": "IPY_MODEL_4ed007c1192d415eacf991520d19a371",
            "value": " 1/1 [01:54&lt;00:00, 114.58s/ splits]"
          }
        },
        "c039dac535a44a2c91db3385f06893e9": {
          "model_module": "@jupyter-widgets/base",
          "model_module_version": "1.2.0",
          "model_name": "LayoutModel",
          "state": {
            "_model_module": "@jupyter-widgets/base",
            "_model_module_version": "1.2.0",
            "_model_name": "LayoutModel",
            "_view_count": null,
            "_view_module": "@jupyter-widgets/base",
            "_view_module_version": "1.2.0",
            "_view_name": "LayoutView",
            "align_content": null,
            "align_items": null,
            "align_self": null,
            "border": null,
            "bottom": null,
            "display": null,
            "flex": null,
            "flex_flow": null,
            "grid_area": null,
            "grid_auto_columns": null,
            "grid_auto_flow": null,
            "grid_auto_rows": null,
            "grid_column": null,
            "grid_gap": null,
            "grid_row": null,
            "grid_template_areas": null,
            "grid_template_columns": null,
            "grid_template_rows": null,
            "height": null,
            "justify_content": null,
            "justify_items": null,
            "left": null,
            "margin": null,
            "max_height": null,
            "max_width": null,
            "min_height": null,
            "min_width": null,
            "object_fit": null,
            "object_position": null,
            "order": null,
            "overflow": null,
            "overflow_x": null,
            "overflow_y": null,
            "padding": null,
            "right": null,
            "top": null,
            "visibility": null,
            "width": "20px"
          }
        },
        "c6a711e26263421db91b356dddb7ccfd": {
          "model_module": "@jupyter-widgets/controls",
          "model_module_version": "1.5.0",
          "model_name": "HBoxModel",
          "state": {
            "_dom_classes": [],
            "_model_module": "@jupyter-widgets/controls",
            "_model_module_version": "1.5.0",
            "_model_name": "HBoxModel",
            "_view_count": null,
            "_view_module": "@jupyter-widgets/controls",
            "_view_module_version": "1.5.0",
            "_view_name": "HBoxView",
            "box_style": "",
            "children": [
              "IPY_MODEL_eeb369fe1e5540dc85759fba10aa5faf",
              "IPY_MODEL_2603780ce7c64170942a16e0d68afdce",
              "IPY_MODEL_2d54f51fa7174017b9e2b5b8ae7b231a"
            ],
            "layout": "IPY_MODEL_447c25f9b8e5487297d6a4211089f516"
          }
        },
        "ca07988c7fde4a2084ef4c5bd6fe2af5": {
          "model_module": "@jupyter-widgets/controls",
          "model_module_version": "1.5.0",
          "model_name": "HTMLModel",
          "state": {
            "_dom_classes": [],
            "_model_module": "@jupyter-widgets/controls",
            "_model_module_version": "1.5.0",
            "_model_name": "HTMLModel",
            "_view_count": null,
            "_view_module": "@jupyter-widgets/controls",
            "_view_module_version": "1.5.0",
            "_view_name": "HTMLView",
            "description": "",
            "description_tooltip": null,
            "layout": "IPY_MODEL_4be69e9ab8a046ceac56a257ebdbebf2",
            "placeholder": "​",
            "style": "IPY_MODEL_e056db8bed9c4bceb15db69eac73fe02",
            "value": " 6654/10000 [00:00&lt;00:00, 66528.96 examples/s]"
          }
        },
        "ca19de96cc0d4f6da59e362e2da367f4": {
          "model_module": "@jupyter-widgets/controls",
          "model_module_version": "1.5.0",
          "model_name": "DescriptionStyleModel",
          "state": {
            "_model_module": "@jupyter-widgets/controls",
            "_model_module_version": "1.5.0",
            "_model_name": "DescriptionStyleModel",
            "_view_count": null,
            "_view_module": "@jupyter-widgets/base",
            "_view_module_version": "1.2.0",
            "_view_name": "StyleView",
            "description_width": ""
          }
        },
        "cce5b44e8fcf42a2afa19023573954b6": {
          "model_module": "@jupyter-widgets/base",
          "model_module_version": "1.2.0",
          "model_name": "LayoutModel",
          "state": {
            "_model_module": "@jupyter-widgets/base",
            "_model_module_version": "1.2.0",
            "_model_name": "LayoutModel",
            "_view_count": null,
            "_view_module": "@jupyter-widgets/base",
            "_view_module_version": "1.2.0",
            "_view_name": "LayoutView",
            "align_content": null,
            "align_items": null,
            "align_self": null,
            "border": null,
            "bottom": null,
            "display": null,
            "flex": null,
            "flex_flow": null,
            "grid_area": null,
            "grid_auto_columns": null,
            "grid_auto_flow": null,
            "grid_auto_rows": null,
            "grid_column": null,
            "grid_gap": null,
            "grid_row": null,
            "grid_template_areas": null,
            "grid_template_columns": null,
            "grid_template_rows": null,
            "height": null,
            "justify_content": null,
            "justify_items": null,
            "left": null,
            "margin": null,
            "max_height": null,
            "max_width": null,
            "min_height": null,
            "min_width": null,
            "object_fit": null,
            "object_position": null,
            "order": null,
            "overflow": null,
            "overflow_x": null,
            "overflow_y": null,
            "padding": null,
            "right": null,
            "top": null,
            "visibility": null,
            "width": null
          }
        },
        "d33c61147ba04894aecfbeab25bc9ba5": {
          "model_module": "@jupyter-widgets/controls",
          "model_module_version": "1.5.0",
          "model_name": "DescriptionStyleModel",
          "state": {
            "_model_module": "@jupyter-widgets/controls",
            "_model_module_version": "1.5.0",
            "_model_name": "DescriptionStyleModel",
            "_view_count": null,
            "_view_module": "@jupyter-widgets/base",
            "_view_module_version": "1.2.0",
            "_view_name": "StyleView",
            "description_width": ""
          }
        },
        "dbd282452d6b407aa4be3ae279c46ee3": {
          "model_module": "@jupyter-widgets/base",
          "model_module_version": "1.2.0",
          "model_name": "LayoutModel",
          "state": {
            "_model_module": "@jupyter-widgets/base",
            "_model_module_version": "1.2.0",
            "_model_name": "LayoutModel",
            "_view_count": null,
            "_view_module": "@jupyter-widgets/base",
            "_view_module_version": "1.2.0",
            "_view_name": "LayoutView",
            "align_content": null,
            "align_items": null,
            "align_self": null,
            "border": null,
            "bottom": null,
            "display": null,
            "flex": null,
            "flex_flow": null,
            "grid_area": null,
            "grid_auto_columns": null,
            "grid_auto_flow": null,
            "grid_auto_rows": null,
            "grid_column": null,
            "grid_gap": null,
            "grid_row": null,
            "grid_template_areas": null,
            "grid_template_columns": null,
            "grid_template_rows": null,
            "height": null,
            "justify_content": null,
            "justify_items": null,
            "left": null,
            "margin": null,
            "max_height": null,
            "max_width": null,
            "min_height": null,
            "min_width": null,
            "object_fit": null,
            "object_position": null,
            "order": null,
            "overflow": null,
            "overflow_x": null,
            "overflow_y": null,
            "padding": null,
            "right": null,
            "top": null,
            "visibility": null,
            "width": "20px"
          }
        },
        "e056db8bed9c4bceb15db69eac73fe02": {
          "model_module": "@jupyter-widgets/controls",
          "model_module_version": "1.5.0",
          "model_name": "DescriptionStyleModel",
          "state": {
            "_model_module": "@jupyter-widgets/controls",
            "_model_module_version": "1.5.0",
            "_model_name": "DescriptionStyleModel",
            "_view_count": null,
            "_view_module": "@jupyter-widgets/base",
            "_view_module_version": "1.2.0",
            "_view_name": "StyleView",
            "description_width": ""
          }
        },
        "e400ba6ca4b242029293f0dc1f66661b": {
          "model_module": "@jupyter-widgets/controls",
          "model_module_version": "1.5.0",
          "model_name": "ProgressStyleModel",
          "state": {
            "_model_module": "@jupyter-widgets/controls",
            "_model_module_version": "1.5.0",
            "_model_name": "ProgressStyleModel",
            "_view_count": null,
            "_view_module": "@jupyter-widgets/base",
            "_view_module_version": "1.2.0",
            "_view_name": "StyleView",
            "bar_color": null,
            "description_width": ""
          }
        },
        "eeb369fe1e5540dc85759fba10aa5faf": {
          "model_module": "@jupyter-widgets/controls",
          "model_module_version": "1.5.0",
          "model_name": "HTMLModel",
          "state": {
            "_dom_classes": [],
            "_model_module": "@jupyter-widgets/controls",
            "_model_module_version": "1.5.0",
            "_model_name": "HTMLModel",
            "_view_count": null,
            "_view_module": "@jupyter-widgets/controls",
            "_view_module_version": "1.5.0",
            "_view_name": "HTMLView",
            "description": "",
            "description_tooltip": null,
            "layout": "IPY_MODEL_59b64db6ab1140e797339466d9fb894b",
            "placeholder": "​",
            "style": "IPY_MODEL_d33c61147ba04894aecfbeab25bc9ba5",
            "value": "Dl Completed...: 100%"
          }
        },
        "f343fa4e208b40aabc663276ab57604a": {
          "model_module": "@jupyter-widgets/base",
          "model_module_version": "1.2.0",
          "model_name": "LayoutModel",
          "state": {
            "_model_module": "@jupyter-widgets/base",
            "_model_module_version": "1.2.0",
            "_model_name": "LayoutModel",
            "_view_count": null,
            "_view_module": "@jupyter-widgets/base",
            "_view_module_version": "1.2.0",
            "_view_name": "LayoutView",
            "align_content": null,
            "align_items": null,
            "align_self": null,
            "border": null,
            "bottom": null,
            "display": null,
            "flex": null,
            "flex_flow": null,
            "grid_area": null,
            "grid_auto_columns": null,
            "grid_auto_flow": null,
            "grid_auto_rows": null,
            "grid_column": null,
            "grid_gap": null,
            "grid_row": null,
            "grid_template_areas": null,
            "grid_template_columns": null,
            "grid_template_rows": null,
            "height": null,
            "justify_content": null,
            "justify_items": null,
            "left": null,
            "margin": null,
            "max_height": null,
            "max_width": null,
            "min_height": null,
            "min_width": null,
            "object_fit": null,
            "object_position": null,
            "order": null,
            "overflow": null,
            "overflow_x": null,
            "overflow_y": null,
            "padding": null,
            "right": null,
            "top": null,
            "visibility": null,
            "width": null
          }
        },
        "f98521de4bdd4ede83aa6cec293bac6e": {
          "model_module": "@jupyter-widgets/controls",
          "model_module_version": "1.5.0",
          "model_name": "HBoxModel",
          "state": {
            "_dom_classes": [],
            "_model_module": "@jupyter-widgets/controls",
            "_model_module_version": "1.5.0",
            "_model_name": "HBoxModel",
            "_view_count": null,
            "_view_module": "@jupyter-widgets/controls",
            "_view_module_version": "1.5.0",
            "_view_name": "HBoxView",
            "box_style": "",
            "children": [
              "IPY_MODEL_5b9d12145b004c118581cb406c9f1317",
              "IPY_MODEL_bbe462ddedde4aaea5c50dc62f7a72ce",
              "IPY_MODEL_bd4e289bcfa042f6996f2c30c32555c7"
            ],
            "layout": "IPY_MODEL_781c478d1cc24429b5a24b7db193814c"
          }
        }
      }
    }
  },
  "nbformat": 4,
  "nbformat_minor": 0
}

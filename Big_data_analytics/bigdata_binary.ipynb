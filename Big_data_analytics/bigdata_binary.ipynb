{
  "nbformat": 4,
  "nbformat_minor": 0,
  "metadata": {
    "colab": {
      "provenance": [],
      "gpuType": "T4"
    },
    "kernelspec": {
      "name": "python3",
      "display_name": "Python 3"
    },
    "language_info": {
      "name": "python"
    },
    "accelerator": "GPU"
  },
  "cells": [
    {
      "cell_type": "code",
      "source": [
        "import numpy as np\n",
        "import pandas as pd\n",
        "pd.options.display.max_columns = None\n",
        "import matplotlib.pyplot as plt\n",
        "from pyspark.sql import SparkSession\n",
        "\n",
        "from pyspark.sql.functions import col\n",
        "from pyspark.ml import Pipeline, Transformer\n",
        "from pyspark.ml.feature import VectorAssembler, MinMaxScaler\n",
        "\n",
        "from pyspark.ml.stat import Correlation\n",
        "import pyspark.sql.functions as F\n",
        "\n",
        "from pyspark.ml.classification import DecisionTreeClassifier, RandomForestClassifier, NaiveBayes, LogisticRegression, LinearSVC, MultilayerPerceptronClassifier, GBTClassifier\n",
        "from pyspark.ml.feature import PolynomialExpansion"
      ],
      "metadata": {
        "id": "qlvN43BJQWvp"
      },
      "execution_count": 29,
      "outputs": []
    },
    {
      "cell_type": "code",
      "source": [
        "# Get the spark session\n",
        "spark = SparkSession.builder.appName(\"Diabetes\").getOrCreate()\n",
        "spark.sparkContext.setLogLevel(\"ERROR\")"
      ],
      "metadata": {
        "id": "S1EXj0gKRGJi"
      },
      "execution_count": null,
      "outputs": []
    },
    {
      "cell_type": "markdown",
      "source": [
        "##Data Loader\n"
      ],
      "metadata": {
        "id": "4q4-meTZVGbd"
      }
    },
    {
      "cell_type": "code",
      "source": [
        "# Mount the drive unit (ignore if you are working in local)\n",
        "\n",
        "from google.colab import drive\n",
        "drive.mount('/content/drive')"
      ],
      "metadata": {
        "colab": {
          "base_uri": "https://localhost:8080/"
        },
        "id": "gxgB2SqWMq8W",
        "outputId": "4d0a430e-2fdf-4e11-e365-6f551b62fcc6"
      },
      "execution_count": 2,
      "outputs": [
        {
          "output_type": "stream",
          "name": "stdout",
          "text": [
            "Mounted at /content/drive\n"
          ]
        }
      ]
    },
    {
      "cell_type": "code",
      "source": [
        "dataset_folder = \"/content/drive/MyDrive/Colab Notebooks/BigData/archive/\"  # CHANGE HERE THE DATA FOLDER\n",
        "\n",
        "df1 = spark.read.csv(dataset_folder + \"diabetes_binary_5050split_health_indicators_BRFSS2015.csv\", header =True)"
      ],
      "metadata": {
        "id": "CW4KYYEpODZU"
      },
      "execution_count": 3,
      "outputs": []
    },
    {
      "cell_type": "code",
      "source": [
        "#Summary stats\n",
        "df1.show()"
      ],
      "metadata": {
        "colab": {
          "base_uri": "https://localhost:8080/"
        },
        "id": "DkB2LbctRKDi",
        "outputId": "47bfc613-bd72-47e3-9827-3b7fe9923651"
      },
      "execution_count": 4,
      "outputs": [
        {
          "output_type": "stream",
          "name": "stdout",
          "text": [
            "+---------------+------+--------+---------+----+------+------+--------------------+------------+------+-------+-----------------+-------------+-----------+-------+--------+--------+--------+---+----+---------+------+\n",
            "|Diabetes_binary|HighBP|HighChol|CholCheck| BMI|Smoker|Stroke|HeartDiseaseorAttack|PhysActivity|Fruits|Veggies|HvyAlcoholConsump|AnyHealthcare|NoDocbcCost|GenHlth|MentHlth|PhysHlth|DiffWalk|Sex| Age|Education|Income|\n",
            "+---------------+------+--------+---------+----+------+------+--------------------+------------+------+-------+-----------------+-------------+-----------+-------+--------+--------+--------+---+----+---------+------+\n",
            "|            0.0|   1.0|     0.0|      1.0|26.0|   0.0|   0.0|                 0.0|         1.0|   0.0|    1.0|              0.0|          1.0|        0.0|    3.0|     5.0|    30.0|     0.0|1.0| 4.0|      6.0|   8.0|\n",
            "|            0.0|   1.0|     1.0|      1.0|26.0|   1.0|   1.0|                 0.0|         0.0|   1.0|    0.0|              0.0|          1.0|        0.0|    3.0|     0.0|     0.0|     0.0|1.0|12.0|      6.0|   8.0|\n",
            "|            0.0|   0.0|     0.0|      1.0|26.0|   0.0|   0.0|                 0.0|         1.0|   1.0|    1.0|              0.0|          1.0|        0.0|    1.0|     0.0|    10.0|     0.0|1.0|13.0|      6.0|   8.0|\n",
            "|            0.0|   1.0|     1.0|      1.0|28.0|   1.0|   0.0|                 0.0|         1.0|   1.0|    1.0|              0.0|          1.0|        0.0|    3.0|     0.0|     3.0|     0.0|1.0|11.0|      6.0|   8.0|\n",
            "|            0.0|   0.0|     0.0|      1.0|29.0|   1.0|   0.0|                 0.0|         1.0|   1.0|    1.0|              0.0|          1.0|        0.0|    2.0|     0.0|     0.0|     0.0|0.0| 8.0|      5.0|   8.0|\n",
            "|            0.0|   0.0|     0.0|      1.0|18.0|   0.0|   0.0|                 0.0|         1.0|   1.0|    1.0|              0.0|          0.0|        0.0|    2.0|     7.0|     0.0|     0.0|0.0| 1.0|      4.0|   7.0|\n",
            "|            0.0|   0.0|     1.0|      1.0|26.0|   1.0|   0.0|                 0.0|         1.0|   1.0|    1.0|              1.0|          1.0|        0.0|    1.0|     0.0|     0.0|     0.0|1.0|13.0|      5.0|   6.0|\n",
            "|            0.0|   0.0|     0.0|      1.0|31.0|   1.0|   0.0|                 0.0|         0.0|   1.0|    1.0|              0.0|          1.0|        0.0|    4.0|     0.0|     0.0|     0.0|1.0| 6.0|      4.0|   3.0|\n",
            "|            0.0|   0.0|     0.0|      1.0|32.0|   0.0|   0.0|                 0.0|         1.0|   1.0|    1.0|              0.0|          1.0|        0.0|    3.0|     0.0|     0.0|     0.0|0.0| 3.0|      6.0|   8.0|\n",
            "|            0.0|   0.0|     0.0|      1.0|27.0|   1.0|   0.0|                 0.0|         0.0|   1.0|    1.0|              0.0|          1.0|        0.0|    3.0|     0.0|     6.0|     0.0|1.0| 6.0|      4.0|   4.0|\n",
            "|            0.0|   1.0|     1.0|      1.0|24.0|   1.0|   0.0|                 1.0|         1.0|   1.0|    1.0|              0.0|          1.0|        0.0|    3.0|     0.0|     4.0|     0.0|0.0|12.0|      4.0|   6.0|\n",
            "|            0.0|   0.0|     0.0|      1.0|21.0|   0.0|   0.0|                 0.0|         1.0|   1.0|    1.0|              0.0|          1.0|        0.0|    1.0|     0.0|     0.0|     0.0|1.0| 4.0|      6.0|   8.0|\n",
            "|            0.0|   1.0|     1.0|      1.0|27.0|   0.0|   0.0|                 0.0|         1.0|   1.0|    1.0|              0.0|          1.0|        0.0|    2.0|     0.0|     0.0|     0.0|1.0| 7.0|      6.0|   8.0|\n",
            "|            0.0|   1.0|     0.0|      1.0|58.0|   0.0|   0.0|                 0.0|         0.0|   1.0|    1.0|              0.0|          1.0|        0.0|    3.0|     3.0|     3.0|     0.0|1.0|10.0|      4.0|   6.0|\n",
            "|            0.0|   0.0|     1.0|      1.0|29.0|   1.0|   0.0|                 0.0|         1.0|   1.0|    0.0|              0.0|          1.0|        0.0|    1.0|     0.0|     0.0|     1.0|0.0|10.0|      5.0|   1.0|\n",
            "|            0.0|   0.0|     0.0|      1.0|18.0|   1.0|   0.0|                 0.0|         1.0|   1.0|    0.0|              0.0|          1.0|        0.0|    3.0|     0.0|     0.0|     0.0|0.0|10.0|      4.0|   6.0|\n",
            "|            0.0|   0.0|     0.0|      1.0|30.0|   0.0|   0.0|                 0.0|         1.0|   0.0|    1.0|              0.0|          1.0|        0.0|    2.0|     0.0|     0.0|     0.0|0.0| 9.0|      5.0|   7.0|\n",
            "|            0.0|   0.0|     0.0|      1.0|30.0|   1.0|   0.0|                 0.0|         1.0|   1.0|    1.0|              0.0|          1.0|        0.0|    1.0|     0.0|     0.0|     0.0|1.0|10.0|      6.0|   7.0|\n",
            "|            0.0|   0.0|     0.0|      1.0|20.0|   0.0|   0.0|                 0.0|         1.0|   1.0|    1.0|              0.0|          1.0|        0.0|    2.0|     0.0|     0.0|     0.0|0.0| 8.0|      6.0|   8.0|\n",
            "|            0.0|   1.0|     0.0|      1.0|26.0|   0.0|   0.0|                 0.0|         0.0|   1.0|    1.0|              0.0|          0.0|        1.0|    3.0|     0.0|    15.0|     0.0|1.0| 7.0|      5.0|   5.0|\n",
            "+---------------+------+--------+---------+----+------+------+--------------------+------------+------+-------+-----------------+-------------+-----------+-------+--------+--------+--------+---+----+---------+------+\n",
            "only showing top 20 rows\n",
            "\n"
          ]
        }
      ]
    },
    {
      "cell_type": "code",
      "source": [
        "#Viewing the dataframe schema\n",
        "df1.printSchema()"
      ],
      "metadata": {
        "colab": {
          "base_uri": "https://localhost:8080/"
        },
        "id": "301ul5t_UzJu",
        "outputId": "47b4f9bb-c229-4eb1-eb3f-e1f34e0e1c32"
      },
      "execution_count": 5,
      "outputs": [
        {
          "output_type": "stream",
          "name": "stdout",
          "text": [
            "root\n",
            " |-- Diabetes_binary: string (nullable = true)\n",
            " |-- HighBP: string (nullable = true)\n",
            " |-- HighChol: string (nullable = true)\n",
            " |-- CholCheck: string (nullable = true)\n",
            " |-- BMI: string (nullable = true)\n",
            " |-- Smoker: string (nullable = true)\n",
            " |-- Stroke: string (nullable = true)\n",
            " |-- HeartDiseaseorAttack: string (nullable = true)\n",
            " |-- PhysActivity: string (nullable = true)\n",
            " |-- Fruits: string (nullable = true)\n",
            " |-- Veggies: string (nullable = true)\n",
            " |-- HvyAlcoholConsump: string (nullable = true)\n",
            " |-- AnyHealthcare: string (nullable = true)\n",
            " |-- NoDocbcCost: string (nullable = true)\n",
            " |-- GenHlth: string (nullable = true)\n",
            " |-- MentHlth: string (nullable = true)\n",
            " |-- PhysHlth: string (nullable = true)\n",
            " |-- DiffWalk: string (nullable = true)\n",
            " |-- Sex: string (nullable = true)\n",
            " |-- Age: string (nullable = true)\n",
            " |-- Education: string (nullable = true)\n",
            " |-- Income: string (nullable = true)\n",
            "\n"
          ]
        }
      ]
    },
    {
      "cell_type": "markdown",
      "source": [
        "##Data visualization and preprocessing\n",
        "\n",
        "\n"
      ],
      "metadata": {
        "id": "pslK7vljVCJq"
      }
    },
    {
      "cell_type": "code",
      "source": [
        "# List of column names in the DataFrame\n",
        "column_names = df1.columns\n",
        "\n",
        "\n",
        "# Iterate over the columns and cast each one from string to int\n",
        "for column_name in column_names:\n",
        "    df1 = df1.withColumn(column_name, col(column_name).cast(\"int\"))"
      ],
      "metadata": {
        "id": "Lvu6OVqTVMAc"
      },
      "execution_count": 6,
      "outputs": []
    },
    {
      "cell_type": "code",
      "source": [
        "#Viewing the dataframe schema\n",
        "df1.printSchema()"
      ],
      "metadata": {
        "colab": {
          "base_uri": "https://localhost:8080/"
        },
        "id": "zzfqe7AQWuNo",
        "outputId": "a015e587-0a3a-4c62-910a-36d7fc3dbbb9"
      },
      "execution_count": 7,
      "outputs": [
        {
          "output_type": "stream",
          "name": "stdout",
          "text": [
            "root\n",
            " |-- Diabetes_binary: integer (nullable = true)\n",
            " |-- HighBP: integer (nullable = true)\n",
            " |-- HighChol: integer (nullable = true)\n",
            " |-- CholCheck: integer (nullable = true)\n",
            " |-- BMI: integer (nullable = true)\n",
            " |-- Smoker: integer (nullable = true)\n",
            " |-- Stroke: integer (nullable = true)\n",
            " |-- HeartDiseaseorAttack: integer (nullable = true)\n",
            " |-- PhysActivity: integer (nullable = true)\n",
            " |-- Fruits: integer (nullable = true)\n",
            " |-- Veggies: integer (nullable = true)\n",
            " |-- HvyAlcoholConsump: integer (nullable = true)\n",
            " |-- AnyHealthcare: integer (nullable = true)\n",
            " |-- NoDocbcCost: integer (nullable = true)\n",
            " |-- GenHlth: integer (nullable = true)\n",
            " |-- MentHlth: integer (nullable = true)\n",
            " |-- PhysHlth: integer (nullable = true)\n",
            " |-- DiffWalk: integer (nullable = true)\n",
            " |-- Sex: integer (nullable = true)\n",
            " |-- Age: integer (nullable = true)\n",
            " |-- Education: integer (nullable = true)\n",
            " |-- Income: integer (nullable = true)\n",
            "\n"
          ]
        }
      ]
    },
    {
      "cell_type": "code",
      "source": [
        "#Summary stats\n",
        "df1.describe().show()"
      ],
      "metadata": {
        "colab": {
          "base_uri": "https://localhost:8080/"
        },
        "id": "kVsRgndpXSFl",
        "outputId": "1cb1d205-d1c8-45a7-e3db-323b9e2b122d"
      },
      "execution_count": 8,
      "outputs": [
        {
          "output_type": "stream",
          "name": "stdout",
          "text": [
            "+-------+------------------+-------------------+------------------+-------------------+------------------+------------------+-------------------+--------------------+------------------+------------------+------------------+-------------------+-------------------+-------------------+------------------+------------------+------------------+-------------------+------------------+------------------+------------------+------------------+\n",
            "|summary|   Diabetes_binary|             HighBP|          HighChol|          CholCheck|               BMI|            Smoker|             Stroke|HeartDiseaseorAttack|      PhysActivity|            Fruits|           Veggies|  HvyAlcoholConsump|      AnyHealthcare|        NoDocbcCost|           GenHlth|          MentHlth|          PhysHlth|           DiffWalk|               Sex|               Age|         Education|            Income|\n",
            "+-------+------------------+-------------------+------------------+-------------------+------------------+------------------+-------------------+--------------------+------------------+------------------+------------------+-------------------+-------------------+-------------------+------------------+------------------+------------------+-------------------+------------------+------------------+------------------+------------------+\n",
            "|  count|             70692|              70692|             70692|              70692|             70692|             70692|              70692|               70692|             70692|             70692|             70692|              70692|              70692|              70692|             70692|             70692|             70692|              70692|             70692|             70692|             70692|             70692|\n",
            "|   mean|               0.5| 0.5634583828438862|0.5257030498500538|  0.975258869461891|29.856985231709388|0.4752730153341255| 0.0621711084705483|  0.1478102189781022|0.7030357041815198| 0.611794828269111| 0.788773835794715|0.04272053414813557| 0.9549595428054094|0.09391444576472585| 2.837081989475471|3.7520370056017653| 5.810417020313473|0.25273015334125504|0.4569965484071748| 8.584054772817291| 4.920952865953715| 5.698310982855203|\n",
            "| stddev|0.5000035365055782|0.49596019315986284|0.4993424480263351|0.15533624280406588| 7.113953851576778|0.4993917341107828|0.24146777536770814|  0.3549142713619424|0.4569239063509657|0.4873451303661188|0.4081813673269248|0.20222776421845487|0.20739436554190968| 0.2917117179591932|1.1135645170395425| 8.155626553608043|10.062260531163895|0.43458059612338523|0.4981507939458703|2.8521531099513346|1.0290808004847722|2.1751959759183523|\n",
            "|    min|                 0|                  0|                 0|                  0|                12|                 0|                  0|                   0|                 0|                 0|                 0|                  0|                  0|                  0|                 1|                 0|                 0|                  0|                 0|                 1|                 1|                 1|\n",
            "|    max|                 1|                  1|                 1|                  1|                98|                 1|                  1|                   1|                 1|                 1|                 1|                  1|                  1|                  1|                 5|                30|                30|                  1|                 1|                13|                 6|                 8|\n",
            "+-------+------------------+-------------------+------------------+-------------------+------------------+------------------+-------------------+--------------------+------------------+------------------+------------------+-------------------+-------------------+-------------------+------------------+------------------+------------------+-------------------+------------------+------------------+------------------+------------------+\n",
            "\n"
          ]
        }
      ]
    },
    {
      "cell_type": "markdown",
      "source": [
        "I observe that there are no missing values, as indicated by the consistent count of 70692 for all columns. This eliminates the need to spend time addressing missing data.\n",
        "\n",
        "Cholesterol check (CholCheck), Stroke, HeartDiseaseorAttack, heavy drinker (HvyAlcoholConsump), AnyHealthcare, NoDoctorCost, and DiffWalk are features having clear imbalanced results. With the exception of CholCheck and AnyHealthcare, which predominantly show positive responses (evident from a mean exceeding 0.95), the remaining variables tend to exhibit negative responses (indicated by a mean close to 0.1).\n",
        "\n",
        "The BMI of the dataset is right-skewed. Most of the values are near from the mean 29, with extreme maximum value 98."
      ],
      "metadata": {
        "id": "vjnsw20eoTyp"
      }
    },
    {
      "cell_type": "code",
      "source": [
        "label_col = 'Diabetes_binary'\n",
        "\n",
        "# Get all columns except the label column\n",
        "all_columns = df1.columns\n",
        "feature_columns = [col for col in all_columns if col != label_col]\n",
        "\n",
        "# Assemble features into a vector column\n",
        "assembler = VectorAssembler(inputCols=all_columns, outputCol=\"features\")\n",
        "df_assembled = assembler.transform(df1)\n",
        "\n",
        "# Calculate the correlation matrix\n",
        "corr_matrix = Correlation.corr(df_assembled, \"features\").head()\n",
        "\n",
        "# Convert the correlation matrix to a Pandas DataFrame for better display\n",
        "corr_df = pd.DataFrame(corr_matrix[0].toArray(), columns=all_columns, index=all_columns)\n",
        "\n",
        "# Calculate the correlation between each feature and the label\n",
        "label_correlation = {feature: df1.stat.corr(feature, label_col) for feature in all_columns}\n",
        "\n",
        "# Display the correlation with the label\n",
        "print(\"\\nCorrelation with Label:\")\n",
        "for feature, correlation in label_correlation.items():\n",
        "    print(f\"{feature}: {correlation}\")\n"
      ],
      "metadata": {
        "colab": {
          "base_uri": "https://localhost:8080/"
        },
        "id": "vOeFcySjB9MP",
        "outputId": "61d12956-27d7-48bd-cbcf-4c9ede3c85d8"
      },
      "execution_count": 9,
      "outputs": [
        {
          "output_type": "stream",
          "name": "stdout",
          "text": [
            "\n",
            "Correlation with Label:\n",
            "Diabetes_binary: 1.0\n",
            "HighBP: 0.38151554890731115\n",
            "HighChol: 0.2892128070886512\n",
            "CholCheck: 0.1153816171027155\n",
            "BMI: 0.293372744761032\n",
            "Smoker: 0.08599896420800339\n",
            "Stroke: 0.12542678468516716\n",
            "HeartDiseaseorAttack: 0.2115234043602299\n",
            "PhysActivity: -0.1586656048640533\n",
            "Fruits: -0.05407655628666805\n",
            "Veggies: -0.07929314561270084\n",
            "HvyAlcoholConsump: -0.09485313995926573\n",
            "AnyHealthcare: 0.023190748531130713\n",
            "NoDocbcCost: 0.04097657326664344\n",
            "GenHlth: 0.4076115984949162\n",
            "MentHlth: 0.08702877147509427\n",
            "PhysHlth: 0.21308101903810442\n",
            "DiffWalk: 0.27264600615980633\n",
            "Sex: 0.04441285837126153\n",
            "Age: 0.27873806628189257\n",
            "Education: -0.17048063498805865\n",
            "Income: -0.22444871496381638\n"
          ]
        }
      ]
    },
    {
      "cell_type": "markdown",
      "source": [
        "The correlation list with labels highlights that the features 'Smoker', 'Fruits', 'Veggies', 'AnyHealthcare', and 'Sex' exhibit low correlation with the label 'Diabetes_binary'. Consequently, I have opted to remove them from consideration"
      ],
      "metadata": {
        "id": "KzriSmPWBebP"
      }
    },
    {
      "cell_type": "code",
      "source": [
        "columns_to_drop = ['Smoker', 'Fruits', 'Veggies', 'AnyHealthcare', 'Sex']\n",
        "df1 = df1.drop(*columns_to_drop)"
      ],
      "metadata": {
        "id": "UvRfaPKpIkTz"
      },
      "execution_count": 10,
      "outputs": []
    },
    {
      "cell_type": "code",
      "source": [
        "# Extract data from the \"Diabetes_012\" column\n",
        "data = df1.select(\"Diabetes_binary\").rdd.flatMap(lambda x: x).collect()\n",
        "\n",
        "# Specify the colors for each bar\n",
        "colors = ['skyblue', 'salmon']\n",
        "\n",
        "bins = [0,1,2]\n",
        "\n",
        "# Plot histogram with individually colored bars\n",
        "n, bins, patches = plt.hist(data, bins=bins, edgecolor='black')\n",
        "\n",
        "# Set colors for each bar individually\n",
        "for i in range(len(patches)):\n",
        "    patches[i].set_facecolor(colors[i])\n",
        "\n",
        "plt.xlabel(\"Diabetes\")\n",
        "plt.ylabel(\"Frequency\")\n",
        "plt.title(\"Histogram of Diabetes\")\n",
        "plt.xticks(bins[:-1])  # Set x-axis ticks to match specified bins\n",
        "plt.show()"
      ],
      "metadata": {
        "id": "F58Iw9nNYKsm",
        "colab": {
          "base_uri": "https://localhost:8080/",
          "height": 472
        },
        "outputId": "9fd63eef-af5f-4bde-8216-e0da13f03931"
      },
      "execution_count": 11,
      "outputs": [
        {
          "output_type": "display_data",
          "data": {
            "text/plain": [
              "<Figure size 640x480 with 1 Axes>"
            ],
            "image/png": "[encoded data removed]"
          },
          "metadata": {}
        }
      ]
    },
    {
      "cell_type": "markdown",
      "source": [
        "0 is for no diabetes or only during pregnancy, 1 is for prediabetes and diabetes. There is an equal 50-50 split of respondents with no diabetes and with either prediabetes or diabetes."
      ],
      "metadata": {
        "id": "3INBcn2Fx8sb"
      }
    },
    {
      "cell_type": "code",
      "source": [
        "# Rimuovi 'Diabetes_012' dalla lista di feature\n",
        "feature_cols = [colonna for colonna in df1.columns if colonna != 'Diabetes_binary']\n",
        "\n",
        "assembler = VectorAssembler(inputCols=feature_cols, outputCol='features1') # Assembler for the feature columns\n",
        "\n",
        "scaler = MinMaxScaler(inputCol=\"features1\", outputCol=\"features\")"
      ],
      "metadata": {
        "id": "zIP5kHrSy0EF"
      },
      "execution_count": 12,
      "outputs": []
    },
    {
      "cell_type": "markdown",
      "source": [
        "One method to standardize the input features is through the Min-Max scaler. This process transforms all features to the interval [0,1], ensuring that the minimum and maximum values of a feature fall within this range. By employing this scaling technique, variables with disparate scales won't exert disproportionate influence on model fitting and the learned function. This normalization is particularly beneficial for columns like 'BMI', 'MentHlth', and 'PhysHlth', where the values significantly exceed those in other attributes. This standardization improve specially the Naive Bayes classifier because"
      ],
      "metadata": {
        "id": "uPSnJLMt3mXy"
      }
    },
    {
      "cell_type": "code",
      "source": [
        "# Create the pipeline with the stages followed by the data.\n",
        "pipeline = Pipeline(stages=[assembler, scaler])\n",
        "\n",
        "# Fit pipeline model and transform data\n",
        "df1 = pipeline.fit(df1).transform(df1)"
      ],
      "metadata": {
        "id": "6y_sPcD6zlQJ"
      },
      "execution_count": 13,
      "outputs": []
    },
    {
      "cell_type": "markdown",
      "source": [
        "##ML MODELS"
      ],
      "metadata": {
        "id": "B7psvCtR6WPt"
      }
    },
    {
      "cell_type": "markdown",
      "source": [
        "For this classification task I decided to develop the following ML models:\n",
        "1. Decision tree\n",
        "2. Random Forest\n",
        "3. Naive Bayes\n",
        "4. Multilayer Perceptron\n",
        "5. Logistic Regression\n",
        "6. Support Vector Machine\n",
        "7. Gradient Boosted Trees\n",
        "8. Polynomial regression\n"
      ],
      "metadata": {
        "id": "dWOSGF2EhZyD"
      }
    },
    {
      "cell_type": "code",
      "source": [
        "# Split the data into train and test\n",
        "train_data, test_data = df1.randomSplit([0.75, 0.25], seed=23)"
      ],
      "metadata": {
        "id": "53wMCgoQ6bgM"
      },
      "execution_count": 14,
      "outputs": []
    },
    {
      "cell_type": "code",
      "source": [
        "# Decision Tree\n",
        "dt = DecisionTreeClassifier(featuresCol='features', labelCol='Diabetes_binary', seed=23)\n",
        "\n",
        "dt_model = dt.fit(train_data)"
      ],
      "metadata": {
        "id": "pHbCSX-J6g6j"
      },
      "execution_count": 16,
      "outputs": []
    },
    {
      "cell_type": "code",
      "source": [
        "# Random Forest\n",
        "rf = RandomForestClassifier(featuresCol='features', labelCol='Diabetes_binary', seed=23)\n",
        "\n",
        "rf_model = rf.fit(train_data)"
      ],
      "metadata": {
        "id": "g_v8oal5n_F-"
      },
      "execution_count": 17,
      "outputs": []
    },
    {
      "cell_type": "code",
      "source": [
        "# Naive Bayes\n",
        "nb = NaiveBayes(featuresCol='features', labelCol='Diabetes_binary', smoothing=0.3, modelType=\"multinomial\")\n",
        "\n",
        "nb_model = nb.fit(train_data)"
      ],
      "metadata": {
        "id": "qirqAPYOn_Jo"
      },
      "execution_count": 18,
      "outputs": []
    },
    {
      "cell_type": "code",
      "source": [
        "# Multilayer Perceptron\n",
        "mlp = MultilayerPerceptronClassifier(layers=[16, 32, 64, 2], maxIter=20,\n",
        "                                     featuresCol='features', labelCol='Diabetes_binary', seed=23)\n",
        "\n",
        "mlp_model = mlp.fit(train_data)"
      ],
      "metadata": {
        "id": "1a3r6Hn5oGuo"
      },
      "execution_count": 20,
      "outputs": []
    },
    {
      "cell_type": "code",
      "source": [
        "# Logistic regression\n",
        "lr = LogisticRegression(featuresCol='features', labelCol='Diabetes_binary', maxIter=20, regParam=0.01)\n",
        "\n",
        "lr_model = lr.fit(train_data)"
      ],
      "metadata": {
        "id": "yugq_o_JUDHr"
      },
      "execution_count": 21,
      "outputs": []
    },
    {
      "cell_type": "code",
      "source": [
        "svc = LinearSVC(featuresCol='features', labelCol='Diabetes_binary')\n",
        "\n",
        "svc_model = svc.fit(train_data)"
      ],
      "metadata": {
        "id": "-4nrcNH50sfX"
      },
      "execution_count": 22,
      "outputs": []
    },
    {
      "cell_type": "code",
      "source": [
        "# Decision Tree\n",
        "gbt = GBTClassifier(featuresCol='features', labelCol='Diabetes_binary', seed=23, maxIter=10)\n",
        "\n",
        "gbt_model = gbt.fit(train_data)"
      ],
      "metadata": {
        "id": "iuOnjqgRFms3"
      },
      "execution_count": 23,
      "outputs": []
    },
    {
      "cell_type": "code",
      "source": [
        "class PolynomialLogisticRegression:\n",
        "  def __init__(self, featuresCol, labelCol, spark , degree):\n",
        "    self.spark = spark\n",
        "    self.degree = degree\n",
        "    self.featuresCol = featuresCol\n",
        "    self.labelCol = labelCol\n",
        "    self.fit = None\n",
        "    self.poly_expansion = PolynomialExpansion(degree=degree, inputCol=featuresCol, outputCol=\"poly_features\")\n",
        "\n",
        "  def fit_(self,data):\n",
        "    # Create a PolynomialExpansion transformer to generate polynomial features\n",
        "    train_poly = self.poly_expansion.transform(data)\n",
        "    reg = LogisticRegression(featuresCol='features', labelCol='Diabetes_binary', maxIter=10)\n",
        "    self.fit= reg.fit(train_poly)\n",
        "    return self\n",
        "\n",
        "  def transform_(self,data):\n",
        "    try:\n",
        "      if(self.fit == None):\n",
        "        raise \"You should call the method fit() first\"\n",
        "      test_poly = self.poly_expansion.transform(data)\n",
        "      preds = self.fit.transform(test_poly)\n",
        "      return preds\n",
        "    except Exception as e:\n",
        "      print(e)"
      ],
      "metadata": {
        "id": "ZT7xuDThQDqg"
      },
      "execution_count": 24,
      "outputs": []
    },
    {
      "cell_type": "code",
      "source": [
        "# Polynomial Logistic regression\n",
        "plr = PolynomialLogisticRegression(featuresCol='features', labelCol='Diabetes_binary', spark = spark, degree = 3)\n",
        "\n",
        "plr_model = plr.fit_(train_data)"
      ],
      "metadata": {
        "id": "oG4XqZ7KQ87R"
      },
      "execution_count": 25,
      "outputs": []
    },
    {
      "cell_type": "markdown",
      "source": [
        "##Evaluation Models"
      ],
      "metadata": {
        "id": "Gg55-WSmoRDo"
      }
    },
    {
      "cell_type": "code",
      "source": [
        "# Get the predictions from all the models for the test data\n",
        "predictions_dt = dt_model.transform(test_data)\n",
        "predictions_rf = rf_model.transform(test_data)\n",
        "predictions_nb = nb_model.transform(test_data)\n",
        "predictions_mlp = mlp_model.transform(test_data)\n",
        "predictions_lr = lr_model.transform(test_data)\n",
        "predictions_svc = svc_model.transform(test_data)\n",
        "predictions_gbt = gbt_model.transform(test_data)\n",
        "predictions_plr = plr_model.transform_(test_data)\n",
        "\n",
        "# List with all predictions\n",
        "predictions = [\n",
        "    predictions_dt,\n",
        "    predictions_rf,\n",
        "    predictions_nb,\n",
        "    predictions_mlp,\n",
        "    predictions_lr,\n",
        "    predictions_svc,\n",
        "    predictions_gbt,\n",
        "    predictions_plr\n",
        "]"
      ],
      "metadata": {
        "id": "2M4xi6x9oGxY"
      },
      "execution_count": 26,
      "outputs": []
    },
    {
      "cell_type": "code",
      "source": [
        "from pyspark.ml.evaluation import BinaryClassificationEvaluator\n",
        "import pandas as pd\n",
        "\n",
        "# Create a dictionary to store results\n",
        "detailed_results_dict = {\"Classifier\": [], \"Accuracy\": [], \"Precision\": [], \"Recall\": [], \"F1 Score\": []}\n",
        "\n",
        "# Function to calculate precision, recall, and F1 score\n",
        "def calculate_metrics(predictions):\n",
        "    TP = predictions.filter(\"prediction = 1 AND Diabetes_binary = 1\").count()\n",
        "    FP = predictions.filter(\"prediction = 1 AND Diabetes_binary = 0\").count()\n",
        "    TN = predictions.filter(\"prediction = 0 AND Diabetes_binary = 0\").count()\n",
        "    FN = predictions.filter(\"prediction = 0 AND Diabetes_binary = 1\").count()\n",
        "\n",
        "    accuracy = (TP + TN) / (TP + FP + TN + FN)\n",
        "    precision = TP / (TP + FP)\n",
        "    recall = TP / (TP + FN)\n",
        "    f1_score = 2 * (precision * recall) / (precision + recall)\n",
        "\n",
        "    return accuracy, precision, recall, f1_score\n",
        "\n",
        "# Calculate metrics for each classifier\n",
        "for i, prediction_df in enumerate(predictions):\n",
        "    classifier_name = [\"Decision Tree\", 'Random Forest', 'Naive Bayes', 'Multi layer Perceptron', 'Logistic regression', 'Support Vector Machine', 'Gradient Boosted Trees', 'Polynomial Logistic regression'][i]\n",
        "    accuracy, precision, recall, f1_score = calculate_metrics(prediction_df)\n",
        "\n",
        "    # Append results to the dictionary\n",
        "    detailed_results_dict[\"Classifier\"].append(classifier_name)\n",
        "    detailed_results_dict[\"Accuracy\"].append(accuracy)\n",
        "    detailed_results_dict[\"Precision\"].append(precision)\n",
        "    detailed_results_dict[\"Recall\"].append(recall)\n",
        "    detailed_results_dict[\"F1 Score\"].append(f1_score)\n",
        "\n",
        "# Convert results to a DataFrame\n",
        "detailed_results_df = pd.DataFrame(detailed_results_dict)\n",
        "detailed_results_df\n"
      ],
      "metadata": {
        "colab": {
          "base_uri": "https://localhost:8080/",
          "height": 300
        },
        "id": "K46y3R5vthvz",
        "outputId": "9f27fd82-eeeb-4996-f32d-e42635ae1af5"
      },
      "execution_count": 27,
      "outputs": [
        {
          "output_type": "execute_result",
          "data": {
            "text/plain": [
              "                       Classifier  Accuracy  Precision    Recall  F1 Score\n",
              "0                   Decision Tree  0.730752   0.712061  0.771934  0.740789\n",
              "1                   Random Forest  0.739452   0.723905  0.771477  0.746935\n",
              "2                     Naive Bayes  0.695496   0.722585  0.631489  0.673973\n",
              "3          Multi layer Perceptron  0.738371   0.712232  0.797148  0.752301\n",
              "4             Logistic regression  0.747299   0.740563  0.758813  0.749577\n",
              "5          Support Vector Machine  0.745650   0.728055  0.781631  0.753893\n",
              "6          Gradient Boosted Trees  0.742068   0.721948  0.784712  0.752023\n",
              "7  Polynomial Logistic regression  0.746730   0.740328  0.757558  0.748844"
            ],
            "text/html": [
              "\n",
              "  <div id=\"df-dcb5c732-6bbe-4518-acc9-376c168549ef\" class=\"colab-df-container\">\n",
              "    <div>\n",
              "<style scoped>\n",
              "    .dataframe tbody tr th:only-of-type {\n",
              "        vertical-align: middle;\n",
              "    }\n",
              "\n",
              "    .dataframe tbody tr th {\n",
              "        vertical-align: top;\n",
              "    }\n",
              "\n",
              "    .dataframe thead th {\n",
              "        text-align: right;\n",
              "    }\n",
              "</style>\n",
              "<table border=\"1\" class=\"dataframe\">\n",
              "  <thead>\n",
              "    <tr style=\"text-align: right;\">\n",
              "      <th></th>\n",
              "      <th>Classifier</th>\n",
              "      <th>Accuracy</th>\n",
              "      <th>Precision</th>\n",
              "      <th>Recall</th>\n",
              "      <th>F1 Score</th>\n",
              "    </tr>\n",
              "  </thead>\n",
              "  <tbody>\n",
              "    <tr>\n",
              "      <th>0</th>\n",
              "      <td>Decision Tree</td>\n",
              "      <td>0.730752</td>\n",
              "      <td>0.712061</td>\n",
              "      <td>0.771934</td>\n",
              "      <td>0.740789</td>\n",
              "    </tr>\n",
              "    <tr>\n",
              "      <th>1</th>\n",
              "      <td>Random Forest</td>\n",
              "      <td>0.739452</td>\n",
              "      <td>0.723905</td>\n",
              "      <td>0.771477</td>\n",
              "      <td>0.746935</td>\n",
              "    </tr>\n",
              "    <tr>\n",
              "      <th>2</th>\n",
              "      <td>Naive Bayes</td>\n",
              "      <td>0.695496</td>\n",
              "      <td>0.722585</td>\n",
              "      <td>0.631489</td>\n",
              "      <td>0.673973</td>\n",
              "    </tr>\n",
              "    <tr>\n",
              "      <th>3</th>\n",
              "      <td>Multi layer Perceptron</td>\n",
              "      <td>0.738371</td>\n",
              "      <td>0.712232</td>\n",
              "      <td>0.797148</td>\n",
              "      <td>0.752301</td>\n",
              "    </tr>\n",
              "    <tr>\n",
              "      <th>4</th>\n",
              "      <td>Logistic regression</td>\n",
              "      <td>0.747299</td>\n",
              "      <td>0.740563</td>\n",
              "      <td>0.758813</td>\n",
              "      <td>0.749577</td>\n",
              "    </tr>\n",
              "    <tr>\n",
              "      <th>5</th>\n",
              "      <td>Support Vector Machine</td>\n",
              "      <td>0.745650</td>\n",
              "      <td>0.728055</td>\n",
              "      <td>0.781631</td>\n",
              "      <td>0.753893</td>\n",
              "    </tr>\n",
              "    <tr>\n",
              "      <th>6</th>\n",
              "      <td>Gradient Boosted Trees</td>\n",
              "      <td>0.742068</td>\n",
              "      <td>0.721948</td>\n",
              "      <td>0.784712</td>\n",
              "      <td>0.752023</td>\n",
              "    </tr>\n",
              "    <tr>\n",
              "      <th>7</th>\n",
              "      <td>Polynomial Logistic regression</td>\n",
              "      <td>0.746730</td>\n",
              "      <td>0.740328</td>\n",
              "      <td>0.757558</td>\n",
              "      <td>0.748844</td>\n",
              "    </tr>\n",
              "  </tbody>\n",
              "</table>\n",
              "</div>\n",
              "    <div class=\"colab-df-buttons\">\n",
              "\n",
              "  <div class=\"colab-df-container\">\n",
              "    <button class=\"colab-df-convert\" onclick=\"convertToInteractive('df-dcb5c732-6bbe-4518-acc9-376c168549ef')\"\n",
              "            title=\"Convert this dataframe to an interactive table.\"\n",
              "            style=\"display:none;\">\n",
              "\n",
              "  <svg xmlns=\"http://www.w3.org/2000/svg\" height=\"24px\" viewBox=\"0 -960 960 960\">\n",
              "    <path d=\"M120-120v-720h720v720H120Zm60-500h600v-160H180v160Zm220 220h160v-160H400v160Zm0 220h160v-160H400v160ZM180-400h160v-160H180v160Zm440 0h160v-160H620v160ZM180-180h160v-160H180v160Zm440 0h160v-160H620v160Z\"/>\n",
              "  </svg>\n",
              "    </button>\n",
              "\n",
              "  <style>\n",
              "    .colab-df-container {\n",
              "      display:flex;\n",
              "      gap: 12px;\n",
              "    }\n",
              "\n",
              "    .colab-df-convert {\n",
              "      background-color: #E8F0FE;\n",
              "      border: none;\n",
              "      border-radius: 50%;\n",
              "      cursor: pointer;\n",
              "      display: none;\n",
              "      fill: #1967D2;\n",
              "      height: 32px;\n",
              "      padding: 0 0 0 0;\n",
              "      width: 32px;\n",
              "    }\n",
              "\n",
              "    .colab-df-convert:hover {\n",
              "      background-color: #E2EBFA;\n",
              "      box-shadow: 0px 1px 2px rgba(60, 64, 67, 0.3), 0px 1px 3px 1px rgba(60, 64, 67, 0.15);\n",
              "      fill: #174EA6;\n",
              "    }\n",
              "\n",
              "    .colab-df-buttons div {\n",
              "      margin-bottom: 4px;\n",
              "    }\n",
              "\n",
              "    [theme=dark] .colab-df-convert {\n",
              "      background-color: #3B4455;\n",
              "      fill: #D2E3FC;\n",
              "    }\n",
              "\n",
              "    [theme=dark] .colab-df-convert:hover {\n",
              "      background-color: #434B5C;\n",
              "      box-shadow: 0px 1px 3px 1px rgba(0, 0, 0, 0.15);\n",
              "      filter: drop-shadow(0px 1px 2px rgba(0, 0, 0, 0.3));\n",
              "      fill: #FFFFFF;\n",
              "    }\n",
              "  </style>\n",
              "\n",
              "    <script>\n",
              "      const buttonEl =\n",
              "        document.querySelector('#df-dcb5c732-6bbe-4518-acc9-376c168549ef button.colab-df-convert');\n",
              "      buttonEl.style.display =\n",
              "        google.colab.kernel.accessAllowed ? 'block' : 'none';\n",
              "\n",
              "      async function convertToInteractive(key) {\n",
              "        const element = document.querySelector('#df-dcb5c732-6bbe-4518-acc9-376c168549ef');\n",
              "        const dataTable =\n",
              "          await google.colab.kernel.invokeFunction('convertToInteractive',\n",
              "                                                    [key], {});\n",
              "        if (!dataTable) return;\n",
              "\n",
              "        const docLinkHtml = 'Like what you see? Visit the ' +\n",
              "          '<a target=\"_blank\" href=https://colab.research.google.com/notebooks/data_table.ipynb>data table notebook</a>'\n",
              "          + ' to learn more about interactive tables.';\n",
              "        element.innerHTML = '';\n",
              "        dataTable['output_type'] = 'display_data';\n",
              "        await google.colab.output.renderOutput(dataTable, element);\n",
              "        const docLink = document.createElement('div');\n",
              "        docLink.innerHTML = docLinkHtml;\n",
              "        element.appendChild(docLink);\n",
              "      }\n",
              "    </script>\n",
              "  </div>\n",
              "\n",
              "\n",
              "<div id=\"df-9f14d893-163e-43c6-8faa-0fca1291b5ce\">\n",
              "  <button class=\"colab-df-quickchart\" onclick=\"quickchart('df-9f14d893-163e-43c6-8faa-0fca1291b5ce')\"\n",
              "            title=\"Suggest charts\"\n",
              "            style=\"display:none;\">\n",
              "\n",
              "<svg xmlns=\"http://www.w3.org/2000/svg\" height=\"24px\"viewBox=\"0 0 24 24\"\n",
              "     width=\"24px\">\n",
              "    <g>\n",
              "        <path d=\"M19 3H5c-1.1 0-2 .9-2 2v14c0 1.1.9 2 2 2h14c1.1 0 2-.9 2-2V5c0-1.1-.9-2-2-2zM9 17H7v-7h2v7zm4 0h-2V7h2v10zm4 0h-2v-4h2v4z\"/>\n",
              "    </g>\n",
              "</svg>\n",
              "  </button>\n",
              "\n",
              "<style>\n",
              "  .colab-df-quickchart {\n",
              "      --bg-color: #E8F0FE;\n",
              "      --fill-color: #1967D2;\n",
              "      --hover-bg-color: #E2EBFA;\n",
              "      --hover-fill-color: #174EA6;\n",
              "      --disabled-fill-color: #AAA;\n",
              "      --disabled-bg-color: #DDD;\n",
              "  }\n",
              "\n",
              "  [theme=dark] .colab-df-quickchart {\n",
              "      --bg-color: #3B4455;\n",
              "      --fill-color: #D2E3FC;\n",
              "      --hover-bg-color: #434B5C;\n",
              "      --hover-fill-color: #FFFFFF;\n",
              "      --disabled-bg-color: #3B4455;\n",
              "      --disabled-fill-color: #666;\n",
              "  }\n",
              "\n",
              "  .colab-df-quickchart {\n",
              "    background-color: var(--bg-color);\n",
              "    border: none;\n",
              "    border-radius: 50%;\n",
              "    cursor: pointer;\n",
              "    display: none;\n",
              "    fill: var(--fill-color);\n",
              "    height: 32px;\n",
              "    padding: 0;\n",
              "    width: 32px;\n",
              "  }\n",
              "\n",
              "  .colab-df-quickchart:hover {\n",
              "    background-color: var(--hover-bg-color);\n",
              "    box-shadow: 0 1px 2px rgba(60, 64, 67, 0.3), 0 1px 3px 1px rgba(60, 64, 67, 0.15);\n",
              "    fill: var(--button-hover-fill-color);\n",
              "  }\n",
              "\n",
              "  .colab-df-quickchart-complete:disabled,\n",
              "  .colab-df-quickchart-complete:disabled:hover {\n",
              "    background-color: var(--disabled-bg-color);\n",
              "    fill: var(--disabled-fill-color);\n",
              "    box-shadow: none;\n",
              "  }\n",
              "\n",
              "  .colab-df-spinner {\n",
              "    border: 2px solid var(--fill-color);\n",
              "    border-color: transparent;\n",
              "    border-bottom-color: var(--fill-color);\n",
              "    animation:\n",
              "      spin 1s steps(1) infinite;\n",
              "  }\n",
              "\n",
              "  @keyframes spin {\n",
              "    0% {\n",
              "      border-color: transparent;\n",
              "      border-bottom-color: var(--fill-color);\n",
              "      border-left-color: var(--fill-color);\n",
              "    }\n",
              "    20% {\n",
              "      border-color: transparent;\n",
              "      border-left-color: var(--fill-color);\n",
              "      border-top-color: var(--fill-color);\n",
              "    }\n",
              "    30% {\n",
              "      border-color: transparent;\n",
              "      border-left-color: var(--fill-color);\n",
              "      border-top-color: var(--fill-color);\n",
              "      border-right-color: var(--fill-color);\n",
              "    }\n",
              "    40% {\n",
              "      border-color: transparent;\n",
              "      border-right-color: var(--fill-color);\n",
              "      border-top-color: var(--fill-color);\n",
              "    }\n",
              "    60% {\n",
              "      border-color: transparent;\n",
              "      border-right-color: var(--fill-color);\n",
              "    }\n",
              "    80% {\n",
              "      border-color: transparent;\n",
              "      border-right-color: var(--fill-color);\n",
              "      border-bottom-color: var(--fill-color);\n",
              "    }\n",
              "    90% {\n",
              "      border-color: transparent;\n",
              "      border-bottom-color: var(--fill-color);\n",
              "    }\n",
              "  }\n",
              "</style>\n",
              "\n",
              "  <script>\n",
              "    async function quickchart(key) {\n",
              "      const quickchartButtonEl =\n",
              "        document.querySelector('#' + key + ' button');\n",
              "      quickchartButtonEl.disabled = true;  // To prevent multiple clicks.\n",
              "      quickchartButtonEl.classList.add('colab-df-spinner');\n",
              "      try {\n",
              "        const charts = await google.colab.kernel.invokeFunction(\n",
              "            'suggestCharts', [key], {});\n",
              "      } catch (error) {\n",
              "        console.error('Error during call to suggestCharts:', error);\n",
              "      }\n",
              "      quickchartButtonEl.classList.remove('colab-df-spinner');\n",
              "      quickchartButtonEl.classList.add('colab-df-quickchart-complete');\n",
              "    }\n",
              "    (() => {\n",
              "      let quickchartButtonEl =\n",
              "        document.querySelector('#df-9f14d893-163e-43c6-8faa-0fca1291b5ce button');\n",
              "      quickchartButtonEl.style.display =\n",
              "        google.colab.kernel.accessAllowed ? 'block' : 'none';\n",
              "    })();\n",
              "  </script>\n",
              "</div>\n",
              "    </div>\n",
              "  </div>\n"
            ],
            "application/vnd.google.colaboratory.intrinsic+json": {
              "type": "dataframe",
              "variable_name": "detailed_results_df",
              "summary": "{\n  \"name\": \"detailed_results_df\",\n  \"rows\": 8,\n  \"fields\": [\n    {\n      \"column\": \"Classifier\",\n      \"properties\": {\n        \"dtype\": \"string\",\n        \"num_unique_values\": 8,\n        \"samples\": [\n          \"Random Forest\",\n          \"Support Vector Machine\",\n          \"Decision Tree\"\n        ],\n        \"semantic_type\": \"\",\n        \"description\": \"\"\n      }\n    },\n    {\n      \"column\": \"Accuracy\",\n      \"properties\": {\n        \"dtype\": \"number\",\n        \"std\": 0.017145481226781473,\n        \"min\": 0.695496417604913,\n        \"max\": 0.7472989878312294,\n        \"num_unique_values\": 8,\n        \"samples\": [\n          0.7394518366882747,\n          0.7456499488229273,\n          0.7307517343341294\n        ],\n        \"semantic_type\": \"\",\n        \"description\": \"\"\n      }\n    },\n    {\n      \"column\": \"Precision\",\n      \"properties\": {\n        \"dtype\": \"number\",\n        \"std\": 0.01090823775058482,\n        \"min\": 0.7120606188170912,\n        \"max\": 0.7405634116468099,\n        \"num_unique_values\": 8,\n        \"samples\": [\n          0.7239053634514506,\n          0.7280552603613177,\n          0.7120606188170912\n        ],\n        \"semantic_type\": \"\",\n        \"description\": \"\"\n      }\n    },\n    {\n      \"column\": \"Recall\",\n      \"properties\": {\n        \"dtype\": \"number\",\n        \"std\": 0.05233896426665456,\n        \"min\": 0.6314888762122076,\n        \"max\": 0.7971477467199087,\n        \"num_unique_values\": 8,\n        \"samples\": [\n          0.7714774671990873,\n          0.7816314888762123,\n          0.7719338277239018\n        ],\n        \"semantic_type\": \"\",\n        \"description\": \"\"\n      }\n    },\n    {\n      \"column\": \"F1 Score\",\n      \"properties\": {\n        \"dtype\": \"number\",\n        \"std\": 0.026904081290976187,\n        \"min\": 0.673972602739726,\n        \"max\": 0.7538927097661623,\n        \"num_unique_values\": 8,\n        \"samples\": [\n          0.7469347177731139,\n          0.7538927097661623,\n          0.7407894016532545\n        ],\n        \"semantic_type\": \"\",\n        \"description\": \"\"\n      }\n    }\n  ]\n}"
            }
          },
          "metadata": {},
          "execution_count": 27
        }
      ]
    },
    {
      "cell_type": "markdown",
      "source": [
        "The model with the best metric values is the logistic regression but a further analysis considering precision/recall metrics for each the two labels value is conducted below.\n",
        "*  Accuracy: the ratio of correctly predicted instances to the total instances. It provides an overall measure of how well the model is performing. However, it may not be suitable for imbalanced datasets.\n",
        "*   Precision: the ratio of correctly predicted positive observations to the total predicted positives. It measures the accuracy of the positive predictions. A high precision indicates that the model has fewer false positives.\n",
        "*   Recall (Sensitivity or True Positive Rate): the ratio of correctly predicted positive observations to the all observations in the actual class.\n",
        "Interpretation: It measures the ability of the model to capture all the relevant instances of the positive class. A high recall indicates that the model can identify most of the positive instances.\n",
        "*   F1 Score: the weighted average of precision and recall. It combines precision and recall into a single metric. It is useful when there is an uneven class distribution (imbalanced classes). It balances precision and recall, providing a single score that considers both false positives and false negatives."
      ],
      "metadata": {
        "id": "eApjxUZiH5y0"
      }
    },
    {
      "cell_type": "code",
      "source": [
        "from pyspark.ml.evaluation import BinaryClassificationEvaluator\n",
        "import pandas as pd\n",
        "from pyspark.sql import functions as F\n",
        "\n",
        "# Assuming 'Diabetes_binary' is the label column and 'prediction' is the predicted label column\n",
        "label_col = 'Diabetes_binary'\n",
        "prediction_col = 'prediction'\n",
        "\n",
        "# Create a dictionary to store results\n",
        "detailed_results_dict1 = {\"Classifier\": [], \"Precision_0\": [], \"Recall_0\": [], \"Precision_1\": [], \"Recall_1\": []}\n",
        "\n",
        "# Function to calculate metrics for each class\n",
        "def calculate_metrics(predictions, class_value):\n",
        "    TP = predictions.filter((F.col(prediction_col) == class_value) & (F.col(label_col) == class_value)).count()\n",
        "    FP = predictions.filter((F.col(prediction_col) == class_value) & (F.col(label_col) != class_value)).count()\n",
        "    TN = predictions.filter((F.col(prediction_col) != class_value) & (F.col(label_col) != class_value)).count()\n",
        "    FN = predictions.filter((F.col(prediction_col) != class_value) & (F.col(label_col) == class_value)).count()\n",
        "\n",
        "    precision = TP / (TP + FP) if (TP + FP) != 0 else 0\n",
        "    recall = TP / (TP + FN) if (TP + FN) != 0 else 0\n",
        "\n",
        "    return precision, recall\n",
        "\n",
        "# Calculate metrics for each classifier and each class\n",
        "for i, prediction_df in enumerate(predictions):\n",
        "    classifier_name = [\"Decision Tree\", 'Random Forest', 'Naive Bayes', 'Multi-layer Perceptron', 'Logistic Regression', 'Support Vector Machine','Gradient Boosted Trees', 'Polynomial Logistic regression'][i]\n",
        "\n",
        "    # Class 0\n",
        "    precision_0, recall_0 = calculate_metrics(prediction_df, 0)\n",
        "\n",
        "    # Class 1\n",
        "    precision_1, recall_1 = calculate_metrics(prediction_df, 1)\n",
        "\n",
        "    # Append results to the dictionary\n",
        "    detailed_results_dict1[\"Classifier\"].append(classifier_name)\n",
        "    detailed_results_dict1[\"Precision_0\"].append(precision_0)\n",
        "    detailed_results_dict1[\"Recall_0\"].append(recall_0)\n",
        "    detailed_results_dict1[\"Precision_1\"].append(precision_1)\n",
        "    detailed_results_dict1[\"Recall_1\"].append(recall_1)\n",
        "\n",
        "# Convert results to a DataFrame\n",
        "detailed_results_df1 = pd.DataFrame(detailed_results_dict1)\n",
        "detailed_results_df1\n"
      ],
      "metadata": {
        "colab": {
          "base_uri": "https://localhost:8080/",
          "height": 300
        },
        "id": "32mDzBSa29QY",
        "outputId": "052a18ba-3e2b-440c-de89-42af6a76d384"
      },
      "execution_count": 28,
      "outputs": [
        {
          "output_type": "execute_result",
          "data": {
            "text/plain": [
              "                       Classifier  Precision_0  Recall_0  Precision_1  \\\n",
              "0                   Decision Tree     0.752721  0.689831     0.712061   \n",
              "1                   Random Forest     0.757065  0.707630     0.723905   \n",
              "2                     Naive Bayes     0.674592  0.759098     0.722585   \n",
              "3          Multi-layer Perceptron     0.771348  0.679968     0.712232   \n",
              "4             Logistic Regression     0.754329  0.735858     0.740563   \n",
              "5          Support Vector Machine     0.765900  0.709897     0.728055   \n",
              "6          Gradient Boosted Trees     0.765852  0.699694     0.721948   \n",
              "7  Polynomial Logistic regression     0.753394  0.735971     0.740328   \n",
              "\n",
              "   Recall_1  \n",
              "0  0.771934  \n",
              "1  0.771477  \n",
              "2  0.631489  \n",
              "3  0.797148  \n",
              "4  0.758813  \n",
              "5  0.781631  \n",
              "6  0.784712  \n",
              "7  0.757558  "
            ],
            "text/html": [
              "\n",
              "  <div id=\"df-43d663da-4343-4428-8dc7-0ec4d8ba52b8\" class=\"colab-df-container\">\n",
              "    <div>\n",
              "<style scoped>\n",
              "    .dataframe tbody tr th:only-of-type {\n",
              "        vertical-align: middle;\n",
              "    }\n",
              "\n",
              "    .dataframe tbody tr th {\n",
              "        vertical-align: top;\n",
              "    }\n",
              "\n",
              "    .dataframe thead th {\n",
              "        text-align: right;\n",
              "    }\n",
              "</style>\n",
              "<table border=\"1\" class=\"dataframe\">\n",
              "  <thead>\n",
              "    <tr style=\"text-align: right;\">\n",
              "      <th></th>\n",
              "      <th>Classifier</th>\n",
              "      <th>Precision_0</th>\n",
              "      <th>Recall_0</th>\n",
              "      <th>Precision_1</th>\n",
              "      <th>Recall_1</th>\n",
              "    </tr>\n",
              "  </thead>\n",
              "  <tbody>\n",
              "    <tr>\n",
              "      <th>0</th>\n",
              "      <td>Decision Tree</td>\n",
              "      <td>0.752721</td>\n",
              "      <td>0.689831</td>\n",
              "      <td>0.712061</td>\n",
              "      <td>0.771934</td>\n",
              "    </tr>\n",
              "    <tr>\n",
              "      <th>1</th>\n",
              "      <td>Random Forest</td>\n",
              "      <td>0.757065</td>\n",
              "      <td>0.707630</td>\n",
              "      <td>0.723905</td>\n",
              "      <td>0.771477</td>\n",
              "    </tr>\n",
              "    <tr>\n",
              "      <th>2</th>\n",
              "      <td>Naive Bayes</td>\n",
              "      <td>0.674592</td>\n",
              "      <td>0.759098</td>\n",
              "      <td>0.722585</td>\n",
              "      <td>0.631489</td>\n",
              "    </tr>\n",
              "    <tr>\n",
              "      <th>3</th>\n",
              "      <td>Multi-layer Perceptron</td>\n",
              "      <td>0.771348</td>\n",
              "      <td>0.679968</td>\n",
              "      <td>0.712232</td>\n",
              "      <td>0.797148</td>\n",
              "    </tr>\n",
              "    <tr>\n",
              "      <th>4</th>\n",
              "      <td>Logistic Regression</td>\n",
              "      <td>0.754329</td>\n",
              "      <td>0.735858</td>\n",
              "      <td>0.740563</td>\n",
              "      <td>0.758813</td>\n",
              "    </tr>\n",
              "    <tr>\n",
              "      <th>5</th>\n",
              "      <td>Support Vector Machine</td>\n",
              "      <td>0.765900</td>\n",
              "      <td>0.709897</td>\n",
              "      <td>0.728055</td>\n",
              "      <td>0.781631</td>\n",
              "    </tr>\n",
              "    <tr>\n",
              "      <th>6</th>\n",
              "      <td>Gradient Boosted Trees</td>\n",
              "      <td>0.765852</td>\n",
              "      <td>0.699694</td>\n",
              "      <td>0.721948</td>\n",
              "      <td>0.784712</td>\n",
              "    </tr>\n",
              "    <tr>\n",
              "      <th>7</th>\n",
              "      <td>Polynomial Logistic regression</td>\n",
              "      <td>0.753394</td>\n",
              "      <td>0.735971</td>\n",
              "      <td>0.740328</td>\n",
              "      <td>0.757558</td>\n",
              "    </tr>\n",
              "  </tbody>\n",
              "</table>\n",
              "</div>\n",
              "    <div class=\"colab-df-buttons\">\n",
              "\n",
              "  <div class=\"colab-df-container\">\n",
              "    <button class=\"colab-df-convert\" onclick=\"convertToInteractive('df-43d663da-4343-4428-8dc7-0ec4d8ba52b8')\"\n",
              "            title=\"Convert this dataframe to an interactive table.\"\n",
              "            style=\"display:none;\">\n",
              "\n",
              "  <svg xmlns=\"http://www.w3.org/2000/svg\" height=\"24px\" viewBox=\"0 -960 960 960\">\n",
              "    <path d=\"M120-120v-720h720v720H120Zm60-500h600v-160H180v160Zm220 220h160v-160H400v160Zm0 220h160v-160H400v160ZM180-400h160v-160H180v160Zm440 0h160v-160H620v160ZM180-180h160v-160H180v160Zm440 0h160v-160H620v160Z\"/>\n",
              "  </svg>\n",
              "    </button>\n",
              "\n",
              "  <style>\n",
              "    .colab-df-container {\n",
              "      display:flex;\n",
              "      gap: 12px;\n",
              "    }\n",
              "\n",
              "    .colab-df-convert {\n",
              "      background-color: #E8F0FE;\n",
              "      border: none;\n",
              "      border-radius: 50%;\n",
              "      cursor: pointer;\n",
              "      display: none;\n",
              "      fill: #1967D2;\n",
              "      height: 32px;\n",
              "      padding: 0 0 0 0;\n",
              "      width: 32px;\n",
              "    }\n",
              "\n",
              "    .colab-df-convert:hover {\n",
              "      background-color: #E2EBFA;\n",
              "      box-shadow: 0px 1px 2px rgba(60, 64, 67, 0.3), 0px 1px 3px 1px rgba(60, 64, 67, 0.15);\n",
              "      fill: #174EA6;\n",
              "    }\n",
              "\n",
              "    .colab-df-buttons div {\n",
              "      margin-bottom: 4px;\n",
              "    }\n",
              "\n",
              "    [theme=dark] .colab-df-convert {\n",
              "      background-color: #3B4455;\n",
              "      fill: #D2E3FC;\n",
              "    }\n",
              "\n",
              "    [theme=dark] .colab-df-convert:hover {\n",
              "      background-color: #434B5C;\n",
              "      box-shadow: 0px 1px 3px 1px rgba(0, 0, 0, 0.15);\n",
              "      filter: drop-shadow(0px 1px 2px rgba(0, 0, 0, 0.3));\n",
              "      fill: #FFFFFF;\n",
              "    }\n",
              "  </style>\n",
              "\n",
              "    <script>\n",
              "      const buttonEl =\n",
              "        document.querySelector('#df-43d663da-4343-4428-8dc7-0ec4d8ba52b8 button.colab-df-convert');\n",
              "      buttonEl.style.display =\n",
              "        google.colab.kernel.accessAllowed ? 'block' : 'none';\n",
              "\n",
              "      async function convertToInteractive(key) {\n",
              "        const element = document.querySelector('#df-43d663da-4343-4428-8dc7-0ec4d8ba52b8');\n",
              "        const dataTable =\n",
              "          await google.colab.kernel.invokeFunction('convertToInteractive',\n",
              "                                                    [key], {});\n",
              "        if (!dataTable) return;\n",
              "\n",
              "        const docLinkHtml = 'Like what you see? Visit the ' +\n",
              "          '<a target=\"_blank\" href=https://colab.research.google.com/notebooks/data_table.ipynb>data table notebook</a>'\n",
              "          + ' to learn more about interactive tables.';\n",
              "        element.innerHTML = '';\n",
              "        dataTable['output_type'] = 'display_data';\n",
              "        await google.colab.output.renderOutput(dataTable, element);\n",
              "        const docLink = document.createElement('div');\n",
              "        docLink.innerHTML = docLinkHtml;\n",
              "        element.appendChild(docLink);\n",
              "      }\n",
              "    </script>\n",
              "  </div>\n",
              "\n",
              "\n",
              "<div id=\"df-c39758ac-134b-4288-a44f-9aba1eaed3b2\">\n",
              "  <button class=\"colab-df-quickchart\" onclick=\"quickchart('df-c39758ac-134b-4288-a44f-9aba1eaed3b2')\"\n",
              "            title=\"Suggest charts\"\n",
              "            style=\"display:none;\">\n",
              "\n",
              "<svg xmlns=\"http://www.w3.org/2000/svg\" height=\"24px\"viewBox=\"0 0 24 24\"\n",
              "     width=\"24px\">\n",
              "    <g>\n",
              "        <path d=\"M19 3H5c-1.1 0-2 .9-2 2v14c0 1.1.9 2 2 2h14c1.1 0 2-.9 2-2V5c0-1.1-.9-2-2-2zM9 17H7v-7h2v7zm4 0h-2V7h2v10zm4 0h-2v-4h2v4z\"/>\n",
              "    </g>\n",
              "</svg>\n",
              "  </button>\n",
              "\n",
              "<style>\n",
              "  .colab-df-quickchart {\n",
              "      --bg-color: #E8F0FE;\n",
              "      --fill-color: #1967D2;\n",
              "      --hover-bg-color: #E2EBFA;\n",
              "      --hover-fill-color: #174EA6;\n",
              "      --disabled-fill-color: #AAA;\n",
              "      --disabled-bg-color: #DDD;\n",
              "  }\n",
              "\n",
              "  [theme=dark] .colab-df-quickchart {\n",
              "      --bg-color: #3B4455;\n",
              "      --fill-color: #D2E3FC;\n",
              "      --hover-bg-color: #434B5C;\n",
              "      --hover-fill-color: #FFFFFF;\n",
              "      --disabled-bg-color: #3B4455;\n",
              "      --disabled-fill-color: #666;\n",
              "  }\n",
              "\n",
              "  .colab-df-quickchart {\n",
              "    background-color: var(--bg-color);\n",
              "    border: none;\n",
              "    border-radius: 50%;\n",
              "    cursor: pointer;\n",
              "    display: none;\n",
              "    fill: var(--fill-color);\n",
              "    height: 32px;\n",
              "    padding: 0;\n",
              "    width: 32px;\n",
              "  }\n",
              "\n",
              "  .colab-df-quickchart:hover {\n",
              "    background-color: var(--hover-bg-color);\n",
              "    box-shadow: 0 1px 2px rgba(60, 64, 67, 0.3), 0 1px 3px 1px rgba(60, 64, 67, 0.15);\n",
              "    fill: var(--button-hover-fill-color);\n",
              "  }\n",
              "\n",
              "  .colab-df-quickchart-complete:disabled,\n",
              "  .colab-df-quickchart-complete:disabled:hover {\n",
              "    background-color: var(--disabled-bg-color);\n",
              "    fill: var(--disabled-fill-color);\n",
              "    box-shadow: none;\n",
              "  }\n",
              "\n",
              "  .colab-df-spinner {\n",
              "    border: 2px solid var(--fill-color);\n",
              "    border-color: transparent;\n",
              "    border-bottom-color: var(--fill-color);\n",
              "    animation:\n",
              "      spin 1s steps(1) infinite;\n",
              "  }\n",
              "\n",
              "  @keyframes spin {\n",
              "    0% {\n",
              "      border-color: transparent;\n",
              "      border-bottom-color: var(--fill-color);\n",
              "      border-left-color: var(--fill-color);\n",
              "    }\n",
              "    20% {\n",
              "      border-color: transparent;\n",
              "      border-left-color: var(--fill-color);\n",
              "      border-top-color: var(--fill-color);\n",
              "    }\n",
              "    30% {\n",
              "      border-color: transparent;\n",
              "      border-left-color: var(--fill-color);\n",
              "      border-top-color: var(--fill-color);\n",
              "      border-right-color: var(--fill-color);\n",
              "    }\n",
              "    40% {\n",
              "      border-color: transparent;\n",
              "      border-right-color: var(--fill-color);\n",
              "      border-top-color: var(--fill-color);\n",
              "    }\n",
              "    60% {\n",
              "      border-color: transparent;\n",
              "      border-right-color: var(--fill-color);\n",
              "    }\n",
              "    80% {\n",
              "      border-color: transparent;\n",
              "      border-right-color: var(--fill-color);\n",
              "      border-bottom-color: var(--fill-color);\n",
              "    }\n",
              "    90% {\n",
              "      border-color: transparent;\n",
              "      border-bottom-color: var(--fill-color);\n",
              "    }\n",
              "  }\n",
              "</style>\n",
              "\n",
              "  <script>\n",
              "    async function quickchart(key) {\n",
              "      const quickchartButtonEl =\n",
              "        document.querySelector('#' + key + ' button');\n",
              "      quickchartButtonEl.disabled = true;  // To prevent multiple clicks.\n",
              "      quickchartButtonEl.classList.add('colab-df-spinner');\n",
              "      try {\n",
              "        const charts = await google.colab.kernel.invokeFunction(\n",
              "            'suggestCharts', [key], {});\n",
              "      } catch (error) {\n",
              "        console.error('Error during call to suggestCharts:', error);\n",
              "      }\n",
              "      quickchartButtonEl.classList.remove('colab-df-spinner');\n",
              "      quickchartButtonEl.classList.add('colab-df-quickchart-complete');\n",
              "    }\n",
              "    (() => {\n",
              "      let quickchartButtonEl =\n",
              "        document.querySelector('#df-c39758ac-134b-4288-a44f-9aba1eaed3b2 button');\n",
              "      quickchartButtonEl.style.display =\n",
              "        google.colab.kernel.accessAllowed ? 'block' : 'none';\n",
              "    })();\n",
              "  </script>\n",
              "</div>\n",
              "    </div>\n",
              "  </div>\n"
            ],
            "application/vnd.google.colaboratory.intrinsic+json": {
              "type": "dataframe",
              "variable_name": "detailed_results_df1",
              "summary": "{\n  \"name\": \"detailed_results_df1\",\n  \"rows\": 8,\n  \"fields\": [\n    {\n      \"column\": \"Classifier\",\n      \"properties\": {\n        \"dtype\": \"string\",\n        \"num_unique_values\": 8,\n        \"samples\": [\n          \"Random Forest\",\n          \"Support Vector Machine\",\n          \"Decision Tree\"\n        ],\n        \"semantic_type\": \"\",\n        \"description\": \"\"\n      }\n    },\n    {\n      \"column\": \"Precision_0\",\n      \"properties\": {\n        \"dtype\": \"number\",\n        \"std\": 0.031008971863739406,\n        \"min\": 0.6745919806568608,\n        \"max\": 0.7713477366255144,\n        \"num_unique_values\": 8,\n        \"samples\": [\n          0.7570648878107944,\n          0.7659001956947162,\n          0.7527214250371104\n        ],\n        \"semantic_type\": \"\",\n        \"description\": \"\"\n      }\n    },\n    {\n      \"column\": \"Recall_0\",\n      \"properties\": {\n        \"dtype\": \"number\",\n        \"std\": 0.026710707665129486,\n        \"min\": 0.6799682575671693,\n        \"max\": 0.7590976079809545,\n        \"num_unique_values\": 8,\n        \"samples\": [\n          0.7076295204625326,\n          0.7098968370933001,\n          0.6898310849110079\n        ],\n        \"semantic_type\": \"\",\n        \"description\": \"\"\n      }\n    },\n    {\n      \"column\": \"Precision_1\",\n      \"properties\": {\n        \"dtype\": \"number\",\n        \"std\": 0.01090823775058482,\n        \"min\": 0.7120606188170912,\n        \"max\": 0.7405634116468099,\n        \"num_unique_values\": 8,\n        \"samples\": [\n          0.7239053634514506,\n          0.7280552603613177,\n          0.7120606188170912\n        ],\n        \"semantic_type\": \"\",\n        \"description\": \"\"\n      }\n    },\n    {\n      \"column\": \"Recall_1\",\n      \"properties\": {\n        \"dtype\": \"number\",\n        \"std\": 0.05233896426665456,\n        \"min\": 0.6314888762122076,\n        \"max\": 0.7971477467199087,\n        \"num_unique_values\": 8,\n        \"samples\": [\n          0.7714774671990873,\n          0.7816314888762123,\n          0.7719338277239018\n        ],\n        \"semantic_type\": \"\",\n        \"description\": \"\"\n      }\n    }\n  ]\n}"
            }
          },
          "metadata": {},
          "execution_count": 28
        }
      ]
    },
    {
      "cell_type": "markdown",
      "source": [
        "In a binary classification task where the goal is to identify whether a person has diabetes or not (with 1 indicating diabetes), precision and recall values for each class can be interpreted as follows:\n",
        "\n",
        "*  Precision_class_0: This represents the precision for the class labeled as 0, which corresponds to the negative class (no diabetes). It indicates the proportion of correctly predicted instances of no diabetes among all instances predicted as no diabetes. In other words, it measures how many of the instances predicted as no diabetes are actually no diabetes.\n",
        "*  Recall_class_0: This represents the recall (or sensitivity) for the class labeled as 0, which again corresponds to the negative class (no diabetes). It indicates the proportion of correctly predicted instances of no diabetes among all instances that are actually no diabetes. In other words, it measures how many of the actual instances of no diabetes were correctly identified by the model.\n",
        "*  Precision_class_1: This represents the precision for the class labeled as 1, which corresponds to the positive class (diabetes). It indicates the proportion of correctly predicted instances of diabetes among all instances predicted as diabetes. In other words, it measures how many of the instances predicted as diabetes are actually diabetes.\n",
        "*  Recall_class_1: This represents the recall (or sensitivity) for the class labeled as 1, which again corresponds to the positive class (diabetes). It indicates the proportion of correctly predicted instances of diabetes among all instances that are actually diabetes. In other words, it measures how many of the actual instances of diabetes were correctly identified by the model."
      ],
      "metadata": {
        "id": "fjp30p3reG-c"
      }
    },
    {
      "cell_type": "markdown",
      "source": [
        "In the context of identifying diabetes, a high precision means that when the model predicts an individual has diabetes, it is likely correct. A high recall means that the model is good at capturing most of the individuals who actually have diabetes.\n",
        "\n",
        "The model with the best precision for class 0 is the Multilayer Perceptron \\\\\n",
        "The model with the best precision for class 1 is the Logistic Regression \\\\\n",
        "The model with the best recall for class 0 is the Naive Bayes \\\\\n",
        "The model with the best recall for class 1 is the Multilayer Perceptron \\\\\n",
        "\n",
        "In summary, the Multilayer Perceptron (MLP) stands out for its high recall in identifying individuals with diabetes, suggesting it's good at capturing most diabetes cases, while also exhibiting high precision for class 0 (non-diabetes), indicating it's reliable in identifying individuals without diabetes. Logistic Regression excels in precision for diabetes prediction, minimizing false alarms for positive cases. Naive Bayes performs well in recalling individuals without diabetes, ensuring most non-diabetic cases are correctly identified."
      ],
      "metadata": {
        "id": "8ldQT46WgIki"
      }
    }
  ]
}